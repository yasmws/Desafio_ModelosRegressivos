{
  "cells": [
    {
      "cell_type": "code",
      "execution_count": null,
      "metadata": {
        "id": "DGJAN3TiVvs1"
      },
      "outputs": [],
      "source": [
        "import pandas as pd\n",
        "import numpy as np\n",
        "import seaborn as sns\n",
        "import matplotlib.pyplot as plt\n",
        "from sklearn import *\n",
        "%matplotlib inline"
      ]
    },
    {
      "cell_type": "code",
      "execution_count": null,
      "metadata": {
        "id": "1BFRzSM1O6OO"
      },
      "outputs": [],
      "source": [
        "sns.set_palette(\"Accent\")\n",
        "sns.set_style(\"darkgrid\")"
      ]
    },
    {
      "cell_type": "code",
      "execution_count": null,
      "metadata": {
        "id": "Yp00nZdhWEIR"
      },
      "outputs": [],
      "source": [
        "import warnings\n",
        "warnings.filterwarnings('ignore')"
      ]
    },
    {
      "cell_type": "markdown",
      "metadata": {
        "id": "MXlwo2vqYjzX"
      },
      "source": [
        "# 🚢 Explorando os dados"
      ]
    },
    {
      "cell_type": "code",
      "execution_count": null,
      "metadata": {
        "id": "pPUgWlJjW6jO"
      },
      "outputs": [],
      "source": [
        "#file_name='https://s3-api.us-geo.objectstorage.softlayer.net/cf-courses-data/CognitiveClass/DA0101EN/coursera/project/kc_house_data_NaN.csv'\n",
        "#dados = pd.read_csv(file_name)"
      ]
    },
    {
      "cell_type": "code",
      "execution_count": null,
      "metadata": {
        "id": "tl1Vo9Ovsjnv"
      },
      "outputs": [],
      "source": [
        "dados = pd.read_csv('desafio_01_preco_imoveis.csv')"
      ]
    },
    {
      "cell_type": "code",
      "execution_count": null,
      "metadata": {
        "colab": {
          "base_uri": "https://localhost:8080/",
          "height": 270
        },
        "id": "eyaaO7VVX7Sq",
        "outputId": "063a74d5-7236-4923-da7c-a076d8099738"
      },
      "outputs": [
        {
          "data": {
            "text/html": [
              "\n",
              "  <div id=\"df-0225fc22-1fd2-4cb0-9d48-71d9b81375b0\">\n",
              "    <div class=\"colab-df-container\">\n",
              "      <div>\n",
              "<style scoped>\n",
              "    .dataframe tbody tr th:only-of-type {\n",
              "        vertical-align: middle;\n",
              "    }\n",
              "\n",
              "    .dataframe tbody tr th {\n",
              "        vertical-align: top;\n",
              "    }\n",
              "\n",
              "    .dataframe thead th {\n",
              "        text-align: right;\n",
              "    }\n",
              "</style>\n",
              "<table border=\"1\" class=\"dataframe\">\n",
              "  <thead>\n",
              "    <tr style=\"text-align: right;\">\n",
              "      <th></th>\n",
              "      <th>id</th>\n",
              "      <th>date</th>\n",
              "      <th>price</th>\n",
              "      <th>bedrooms</th>\n",
              "      <th>bathrooms</th>\n",
              "      <th>sqft_living</th>\n",
              "      <th>sqft_lot</th>\n",
              "      <th>floors</th>\n",
              "      <th>waterfront</th>\n",
              "      <th>view</th>\n",
              "      <th>condition</th>\n",
              "      <th>grade</th>\n",
              "      <th>sqft_above</th>\n",
              "      <th>sqft_basement</th>\n",
              "      <th>yr_built</th>\n",
              "      <th>yr_renovated</th>\n",
              "      <th>zipcode</th>\n",
              "      <th>lat</th>\n",
              "      <th>long</th>\n",
              "    </tr>\n",
              "  </thead>\n",
              "  <tbody>\n",
              "    <tr>\n",
              "      <th>0</th>\n",
              "      <td>7129300520</td>\n",
              "      <td>20141013T000000</td>\n",
              "      <td>221900.0</td>\n",
              "      <td>3</td>\n",
              "      <td>1.00</td>\n",
              "      <td>1180</td>\n",
              "      <td>5650</td>\n",
              "      <td>1.0</td>\n",
              "      <td>0</td>\n",
              "      <td>0</td>\n",
              "      <td>3</td>\n",
              "      <td>7</td>\n",
              "      <td>1180</td>\n",
              "      <td>0</td>\n",
              "      <td>1955</td>\n",
              "      <td>0</td>\n",
              "      <td>98178</td>\n",
              "      <td>47.5112</td>\n",
              "      <td>-122.257</td>\n",
              "    </tr>\n",
              "    <tr>\n",
              "      <th>1</th>\n",
              "      <td>6414100192</td>\n",
              "      <td>20141209T000000</td>\n",
              "      <td>538000.0</td>\n",
              "      <td>3</td>\n",
              "      <td>2.25</td>\n",
              "      <td>2570</td>\n",
              "      <td>7242</td>\n",
              "      <td>2.0</td>\n",
              "      <td>0</td>\n",
              "      <td>0</td>\n",
              "      <td>3</td>\n",
              "      <td>7</td>\n",
              "      <td>2170</td>\n",
              "      <td>400</td>\n",
              "      <td>1951</td>\n",
              "      <td>1991</td>\n",
              "      <td>98125</td>\n",
              "      <td>47.7210</td>\n",
              "      <td>-122.319</td>\n",
              "    </tr>\n",
              "    <tr>\n",
              "      <th>2</th>\n",
              "      <td>5631500400</td>\n",
              "      <td>20150225T000000</td>\n",
              "      <td>180000.0</td>\n",
              "      <td>2</td>\n",
              "      <td>1.00</td>\n",
              "      <td>770</td>\n",
              "      <td>10000</td>\n",
              "      <td>1.0</td>\n",
              "      <td>0</td>\n",
              "      <td>0</td>\n",
              "      <td>3</td>\n",
              "      <td>6</td>\n",
              "      <td>770</td>\n",
              "      <td>0</td>\n",
              "      <td>1933</td>\n",
              "      <td>0</td>\n",
              "      <td>98028</td>\n",
              "      <td>47.7379</td>\n",
              "      <td>-122.233</td>\n",
              "    </tr>\n",
              "    <tr>\n",
              "      <th>3</th>\n",
              "      <td>2487200875</td>\n",
              "      <td>20141209T000000</td>\n",
              "      <td>604000.0</td>\n",
              "      <td>4</td>\n",
              "      <td>3.00</td>\n",
              "      <td>1960</td>\n",
              "      <td>5000</td>\n",
              "      <td>1.0</td>\n",
              "      <td>0</td>\n",
              "      <td>0</td>\n",
              "      <td>5</td>\n",
              "      <td>7</td>\n",
              "      <td>1050</td>\n",
              "      <td>910</td>\n",
              "      <td>1965</td>\n",
              "      <td>0</td>\n",
              "      <td>98136</td>\n",
              "      <td>47.5208</td>\n",
              "      <td>-122.393</td>\n",
              "    </tr>\n",
              "    <tr>\n",
              "      <th>4</th>\n",
              "      <td>1954400510</td>\n",
              "      <td>20150218T000000</td>\n",
              "      <td>510000.0</td>\n",
              "      <td>3</td>\n",
              "      <td>2.00</td>\n",
              "      <td>1680</td>\n",
              "      <td>8080</td>\n",
              "      <td>1.0</td>\n",
              "      <td>0</td>\n",
              "      <td>0</td>\n",
              "      <td>3</td>\n",
              "      <td>8</td>\n",
              "      <td>1680</td>\n",
              "      <td>0</td>\n",
              "      <td>1987</td>\n",
              "      <td>0</td>\n",
              "      <td>98074</td>\n",
              "      <td>47.6168</td>\n",
              "      <td>-122.045</td>\n",
              "    </tr>\n",
              "  </tbody>\n",
              "</table>\n",
              "</div>\n",
              "      <button class=\"colab-df-convert\" onclick=\"convertToInteractive('df-0225fc22-1fd2-4cb0-9d48-71d9b81375b0')\"\n",
              "              title=\"Convert this dataframe to an interactive table.\"\n",
              "              style=\"display:none;\">\n",
              "        \n",
              "  <svg xmlns=\"http://www.w3.org/2000/svg\" height=\"24px\"viewBox=\"0 0 24 24\"\n",
              "       width=\"24px\">\n",
              "    <path d=\"M0 0h24v24H0V0z\" fill=\"none\"/>\n",
              "    <path d=\"M18.56 5.44l.94 2.06.94-2.06 2.06-.94-2.06-.94-.94-2.06-.94 2.06-2.06.94zm-11 1L8.5 8.5l.94-2.06 2.06-.94-2.06-.94L8.5 2.5l-.94 2.06-2.06.94zm10 10l.94 2.06.94-2.06 2.06-.94-2.06-.94-.94-2.06-.94 2.06-2.06.94z\"/><path d=\"M17.41 7.96l-1.37-1.37c-.4-.4-.92-.59-1.43-.59-.52 0-1.04.2-1.43.59L10.3 9.45l-7.72 7.72c-.78.78-.78 2.05 0 2.83L4 21.41c.39.39.9.59 1.41.59.51 0 1.02-.2 1.41-.59l7.78-7.78 2.81-2.81c.8-.78.8-2.07 0-2.86zM5.41 20L4 18.59l7.72-7.72 1.47 1.35L5.41 20z\"/>\n",
              "  </svg>\n",
              "      </button>\n",
              "      \n",
              "  <style>\n",
              "    .colab-df-container {\n",
              "      display:flex;\n",
              "      flex-wrap:wrap;\n",
              "      gap: 12px;\n",
              "    }\n",
              "\n",
              "    .colab-df-convert {\n",
              "      background-color: #E8F0FE;\n",
              "      border: none;\n",
              "      border-radius: 50%;\n",
              "      cursor: pointer;\n",
              "      display: none;\n",
              "      fill: #1967D2;\n",
              "      height: 32px;\n",
              "      padding: 0 0 0 0;\n",
              "      width: 32px;\n",
              "    }\n",
              "\n",
              "    .colab-df-convert:hover {\n",
              "      background-color: #E2EBFA;\n",
              "      box-shadow: 0px 1px 2px rgba(60, 64, 67, 0.3), 0px 1px 3px 1px rgba(60, 64, 67, 0.15);\n",
              "      fill: #174EA6;\n",
              "    }\n",
              "\n",
              "    [theme=dark] .colab-df-convert {\n",
              "      background-color: #3B4455;\n",
              "      fill: #D2E3FC;\n",
              "    }\n",
              "\n",
              "    [theme=dark] .colab-df-convert:hover {\n",
              "      background-color: #434B5C;\n",
              "      box-shadow: 0px 1px 3px 1px rgba(0, 0, 0, 0.15);\n",
              "      filter: drop-shadow(0px 1px 2px rgba(0, 0, 0, 0.3));\n",
              "      fill: #FFFFFF;\n",
              "    }\n",
              "  </style>\n",
              "\n",
              "      <script>\n",
              "        const buttonEl =\n",
              "          document.querySelector('#df-0225fc22-1fd2-4cb0-9d48-71d9b81375b0 button.colab-df-convert');\n",
              "        buttonEl.style.display =\n",
              "          google.colab.kernel.accessAllowed ? 'block' : 'none';\n",
              "\n",
              "        async function convertToInteractive(key) {\n",
              "          const element = document.querySelector('#df-0225fc22-1fd2-4cb0-9d48-71d9b81375b0');\n",
              "          const dataTable =\n",
              "            await google.colab.kernel.invokeFunction('convertToInteractive',\n",
              "                                                     [key], {});\n",
              "          if (!dataTable) return;\n",
              "\n",
              "          const docLinkHtml = 'Like what you see? Visit the ' +\n",
              "            '<a target=\"_blank\" href=https://colab.research.google.com/notebooks/data_table.ipynb>data table notebook</a>'\n",
              "            + ' to learn more about interactive tables.';\n",
              "          element.innerHTML = '';\n",
              "          dataTable['output_type'] = 'display_data';\n",
              "          await google.colab.output.renderOutput(dataTable, element);\n",
              "          const docLink = document.createElement('div');\n",
              "          docLink.innerHTML = docLinkHtml;\n",
              "          element.appendChild(docLink);\n",
              "        }\n",
              "      </script>\n",
              "    </div>\n",
              "  </div>\n",
              "  "
            ],
            "text/plain": [
              "           id             date     price  bedrooms  bathrooms  sqft_living  \\\n",
              "0  7129300520  20141013T000000  221900.0         3       1.00         1180   \n",
              "1  6414100192  20141209T000000  538000.0         3       2.25         2570   \n",
              "2  5631500400  20150225T000000  180000.0         2       1.00          770   \n",
              "3  2487200875  20141209T000000  604000.0         4       3.00         1960   \n",
              "4  1954400510  20150218T000000  510000.0         3       2.00         1680   \n",
              "\n",
              "   sqft_lot  floors  waterfront  view  condition  grade  sqft_above  \\\n",
              "0      5650     1.0           0     0          3      7        1180   \n",
              "1      7242     2.0           0     0          3      7        2170   \n",
              "2     10000     1.0           0     0          3      6         770   \n",
              "3      5000     1.0           0     0          5      7        1050   \n",
              "4      8080     1.0           0     0          3      8        1680   \n",
              "\n",
              "   sqft_basement  yr_built  yr_renovated  zipcode      lat     long  \n",
              "0              0      1955             0    98178  47.5112 -122.257  \n",
              "1            400      1951          1991    98125  47.7210 -122.319  \n",
              "2              0      1933             0    98028  47.7379 -122.233  \n",
              "3            910      1965             0    98136  47.5208 -122.393  \n",
              "4              0      1987             0    98074  47.6168 -122.045  "
            ]
          },
          "execution_count": 118,
          "metadata": {},
          "output_type": "execute_result"
        }
      ],
      "source": [
        "dados.head()"
      ]
    },
    {
      "cell_type": "code",
      "execution_count": null,
      "metadata": {
        "colab": {
          "base_uri": "https://localhost:8080/"
        },
        "id": "Qk5UhjkeX8ah",
        "outputId": "fa052394-3dbe-4e4d-be18-b7e0f9eb6b01"
      },
      "outputs": [
        {
          "data": {
            "text/plain": [
              "21613"
            ]
          },
          "execution_count": 119,
          "metadata": {},
          "output_type": "execute_result"
        }
      ],
      "source": [
        "len(dados)"
      ]
    },
    {
      "cell_type": "code",
      "execution_count": null,
      "metadata": {
        "colab": {
          "base_uri": "https://localhost:8080/"
        },
        "id": "X_j--ofOYE4s",
        "outputId": "ebf8318f-fa22-4433-e96e-e3882cc68bad"
      },
      "outputs": [
        {
          "data": {
            "text/plain": [
              "(21613, 19)"
            ]
          },
          "execution_count": 120,
          "metadata": {},
          "output_type": "execute_result"
        }
      ],
      "source": [
        "dados.shape"
      ]
    },
    {
      "cell_type": "code",
      "execution_count": null,
      "metadata": {
        "colab": {
          "base_uri": "https://localhost:8080/"
        },
        "id": "FWuxznBvafPa",
        "outputId": "5ad21022-494c-41cd-9a59-5635b42ef677"
      },
      "outputs": [
        {
          "data": {
            "text/plain": [
              "id               0\n",
              "date             0\n",
              "price            0\n",
              "bedrooms         0\n",
              "bathrooms        0\n",
              "sqft_living      0\n",
              "sqft_lot         0\n",
              "floors           0\n",
              "waterfront       0\n",
              "view             0\n",
              "condition        0\n",
              "grade            0\n",
              "sqft_above       0\n",
              "sqft_basement    0\n",
              "yr_built         0\n",
              "yr_renovated     0\n",
              "zipcode          0\n",
              "lat              0\n",
              "long             0\n",
              "dtype: int64"
            ]
          },
          "execution_count": 121,
          "metadata": {},
          "output_type": "execute_result"
        }
      ],
      "source": [
        "dados.isnull().sum()"
      ]
    },
    {
      "cell_type": "code",
      "execution_count": null,
      "metadata": {
        "colab": {
          "base_uri": "https://localhost:8080/"
        },
        "id": "p_d3CzQmbYGy",
        "outputId": "41d1424b-48e2-4df2-b6aa-8ed01a9756ab"
      },
      "outputs": [
        {
          "name": "stdout",
          "output_type": "stream",
          "text": [
            "A base de dados contém 21613 registros \n",
            "\n"
          ]
        }
      ],
      "source": [
        "print('A base de dados contém {} registros \\n'.format(dados.shape[0]))"
      ]
    },
    {
      "cell_type": "code",
      "execution_count": null,
      "metadata": {
        "colab": {
          "base_uri": "https://localhost:8080/"
        },
        "id": "jrb7MBQOapqn",
        "outputId": "94e9ba48-9a10-4060-edce-481dc9ee0f9a"
      },
      "outputs": [
        {
          "name": "stdout",
          "output_type": "stream",
          "text": [
            "<class 'pandas.core.frame.DataFrame'>\n",
            "RangeIndex: 21613 entries, 0 to 21612\n",
            "Data columns (total 19 columns):\n",
            " #   Column         Non-Null Count  Dtype  \n",
            "---  ------         --------------  -----  \n",
            " 0   id             21613 non-null  int64  \n",
            " 1   date           21613 non-null  object \n",
            " 2   price          21613 non-null  float64\n",
            " 3   bedrooms       21613 non-null  int64  \n",
            " 4   bathrooms      21613 non-null  float64\n",
            " 5   sqft_living    21613 non-null  int64  \n",
            " 6   sqft_lot       21613 non-null  int64  \n",
            " 7   floors         21613 non-null  float64\n",
            " 8   waterfront     21613 non-null  int64  \n",
            " 9   view           21613 non-null  int64  \n",
            " 10  condition      21613 non-null  int64  \n",
            " 11  grade          21613 non-null  int64  \n",
            " 12  sqft_above     21613 non-null  int64  \n",
            " 13  sqft_basement  21613 non-null  int64  \n",
            " 14  yr_built       21613 non-null  int64  \n",
            " 15  yr_renovated   21613 non-null  int64  \n",
            " 16  zipcode        21613 non-null  int64  \n",
            " 17  lat            21613 non-null  float64\n",
            " 18  long           21613 non-null  float64\n",
            "dtypes: float64(5), int64(13), object(1)\n",
            "memory usage: 3.1+ MB\n"
          ]
        }
      ],
      "source": [
        "dados.info()"
      ]
    },
    {
      "cell_type": "code",
      "execution_count": null,
      "metadata": {
        "colab": {
          "base_uri": "https://localhost:8080/",
          "height": 364
        },
        "id": "szS3dB7mY51c",
        "outputId": "4e1ad027-ceea-4b29-8278-1d6561012246"
      },
      "outputs": [
        {
          "data": {
            "text/html": [
              "\n",
              "  <div id=\"df-d9b4c7b9-7561-40af-ab7b-c2144d1033dd\">\n",
              "    <div class=\"colab-df-container\">\n",
              "      <div>\n",
              "<style scoped>\n",
              "    .dataframe tbody tr th:only-of-type {\n",
              "        vertical-align: middle;\n",
              "    }\n",
              "\n",
              "    .dataframe tbody tr th {\n",
              "        vertical-align: top;\n",
              "    }\n",
              "\n",
              "    .dataframe thead th {\n",
              "        text-align: right;\n",
              "    }\n",
              "</style>\n",
              "<table border=\"1\" class=\"dataframe\">\n",
              "  <thead>\n",
              "    <tr style=\"text-align: right;\">\n",
              "      <th></th>\n",
              "      <th>id</th>\n",
              "      <th>price</th>\n",
              "      <th>bedrooms</th>\n",
              "      <th>bathrooms</th>\n",
              "      <th>sqft_living</th>\n",
              "      <th>sqft_lot</th>\n",
              "      <th>floors</th>\n",
              "      <th>waterfront</th>\n",
              "      <th>view</th>\n",
              "      <th>condition</th>\n",
              "      <th>grade</th>\n",
              "      <th>sqft_above</th>\n",
              "      <th>sqft_basement</th>\n",
              "      <th>yr_built</th>\n",
              "      <th>yr_renovated</th>\n",
              "      <th>zipcode</th>\n",
              "      <th>lat</th>\n",
              "      <th>long</th>\n",
              "    </tr>\n",
              "  </thead>\n",
              "  <tbody>\n",
              "    <tr>\n",
              "      <th>count</th>\n",
              "      <td>2.161300e+04</td>\n",
              "      <td>21613.00</td>\n",
              "      <td>21613.00</td>\n",
              "      <td>21613.00</td>\n",
              "      <td>21613.00</td>\n",
              "      <td>21613.00</td>\n",
              "      <td>21613.00</td>\n",
              "      <td>21613.00</td>\n",
              "      <td>21613.00</td>\n",
              "      <td>21613.00</td>\n",
              "      <td>21613.00</td>\n",
              "      <td>21613.00</td>\n",
              "      <td>21613.00</td>\n",
              "      <td>21613.00</td>\n",
              "      <td>21613.00</td>\n",
              "      <td>21613.00</td>\n",
              "      <td>21613.00</td>\n",
              "      <td>21613.00</td>\n",
              "    </tr>\n",
              "    <tr>\n",
              "      <th>mean</th>\n",
              "      <td>4.580302e+09</td>\n",
              "      <td>540088.14</td>\n",
              "      <td>3.37</td>\n",
              "      <td>2.11</td>\n",
              "      <td>2079.90</td>\n",
              "      <td>15106.97</td>\n",
              "      <td>1.49</td>\n",
              "      <td>0.01</td>\n",
              "      <td>0.23</td>\n",
              "      <td>3.41</td>\n",
              "      <td>7.66</td>\n",
              "      <td>1788.39</td>\n",
              "      <td>291.51</td>\n",
              "      <td>1971.01</td>\n",
              "      <td>84.40</td>\n",
              "      <td>98077.94</td>\n",
              "      <td>47.56</td>\n",
              "      <td>-122.21</td>\n",
              "    </tr>\n",
              "    <tr>\n",
              "      <th>std</th>\n",
              "      <td>2.876566e+09</td>\n",
              "      <td>367127.20</td>\n",
              "      <td>0.93</td>\n",
              "      <td>0.77</td>\n",
              "      <td>918.44</td>\n",
              "      <td>41420.51</td>\n",
              "      <td>0.54</td>\n",
              "      <td>0.09</td>\n",
              "      <td>0.77</td>\n",
              "      <td>0.65</td>\n",
              "      <td>1.18</td>\n",
              "      <td>828.09</td>\n",
              "      <td>442.58</td>\n",
              "      <td>29.37</td>\n",
              "      <td>401.68</td>\n",
              "      <td>53.51</td>\n",
              "      <td>0.14</td>\n",
              "      <td>0.14</td>\n",
              "    </tr>\n",
              "    <tr>\n",
              "      <th>min</th>\n",
              "      <td>1.000102e+06</td>\n",
              "      <td>75000.00</td>\n",
              "      <td>0.00</td>\n",
              "      <td>0.00</td>\n",
              "      <td>290.00</td>\n",
              "      <td>520.00</td>\n",
              "      <td>1.00</td>\n",
              "      <td>0.00</td>\n",
              "      <td>0.00</td>\n",
              "      <td>1.00</td>\n",
              "      <td>1.00</td>\n",
              "      <td>290.00</td>\n",
              "      <td>0.00</td>\n",
              "      <td>1900.00</td>\n",
              "      <td>0.00</td>\n",
              "      <td>98001.00</td>\n",
              "      <td>47.16</td>\n",
              "      <td>-122.52</td>\n",
              "    </tr>\n",
              "    <tr>\n",
              "      <th>25%</th>\n",
              "      <td>2.123049e+09</td>\n",
              "      <td>321950.00</td>\n",
              "      <td>3.00</td>\n",
              "      <td>1.75</td>\n",
              "      <td>1427.00</td>\n",
              "      <td>5040.00</td>\n",
              "      <td>1.00</td>\n",
              "      <td>0.00</td>\n",
              "      <td>0.00</td>\n",
              "      <td>3.00</td>\n",
              "      <td>7.00</td>\n",
              "      <td>1190.00</td>\n",
              "      <td>0.00</td>\n",
              "      <td>1951.00</td>\n",
              "      <td>0.00</td>\n",
              "      <td>98033.00</td>\n",
              "      <td>47.47</td>\n",
              "      <td>-122.33</td>\n",
              "    </tr>\n",
              "    <tr>\n",
              "      <th>50%</th>\n",
              "      <td>3.904930e+09</td>\n",
              "      <td>450000.00</td>\n",
              "      <td>3.00</td>\n",
              "      <td>2.25</td>\n",
              "      <td>1910.00</td>\n",
              "      <td>7618.00</td>\n",
              "      <td>1.50</td>\n",
              "      <td>0.00</td>\n",
              "      <td>0.00</td>\n",
              "      <td>3.00</td>\n",
              "      <td>7.00</td>\n",
              "      <td>1560.00</td>\n",
              "      <td>0.00</td>\n",
              "      <td>1975.00</td>\n",
              "      <td>0.00</td>\n",
              "      <td>98065.00</td>\n",
              "      <td>47.57</td>\n",
              "      <td>-122.23</td>\n",
              "    </tr>\n",
              "    <tr>\n",
              "      <th>75%</th>\n",
              "      <td>7.308900e+09</td>\n",
              "      <td>645000.00</td>\n",
              "      <td>4.00</td>\n",
              "      <td>2.50</td>\n",
              "      <td>2550.00</td>\n",
              "      <td>10688.00</td>\n",
              "      <td>2.00</td>\n",
              "      <td>0.00</td>\n",
              "      <td>0.00</td>\n",
              "      <td>4.00</td>\n",
              "      <td>8.00</td>\n",
              "      <td>2210.00</td>\n",
              "      <td>560.00</td>\n",
              "      <td>1997.00</td>\n",
              "      <td>0.00</td>\n",
              "      <td>98118.00</td>\n",
              "      <td>47.68</td>\n",
              "      <td>-122.12</td>\n",
              "    </tr>\n",
              "    <tr>\n",
              "      <th>max</th>\n",
              "      <td>9.900000e+09</td>\n",
              "      <td>7700000.00</td>\n",
              "      <td>33.00</td>\n",
              "      <td>8.00</td>\n",
              "      <td>13540.00</td>\n",
              "      <td>1651359.00</td>\n",
              "      <td>3.50</td>\n",
              "      <td>1.00</td>\n",
              "      <td>4.00</td>\n",
              "      <td>5.00</td>\n",
              "      <td>13.00</td>\n",
              "      <td>9410.00</td>\n",
              "      <td>4820.00</td>\n",
              "      <td>2015.00</td>\n",
              "      <td>2015.00</td>\n",
              "      <td>98199.00</td>\n",
              "      <td>47.78</td>\n",
              "      <td>-121.32</td>\n",
              "    </tr>\n",
              "  </tbody>\n",
              "</table>\n",
              "</div>\n",
              "      <button class=\"colab-df-convert\" onclick=\"convertToInteractive('df-d9b4c7b9-7561-40af-ab7b-c2144d1033dd')\"\n",
              "              title=\"Convert this dataframe to an interactive table.\"\n",
              "              style=\"display:none;\">\n",
              "        \n",
              "  <svg xmlns=\"http://www.w3.org/2000/svg\" height=\"24px\"viewBox=\"0 0 24 24\"\n",
              "       width=\"24px\">\n",
              "    <path d=\"M0 0h24v24H0V0z\" fill=\"none\"/>\n",
              "    <path d=\"M18.56 5.44l.94 2.06.94-2.06 2.06-.94-2.06-.94-.94-2.06-.94 2.06-2.06.94zm-11 1L8.5 8.5l.94-2.06 2.06-.94-2.06-.94L8.5 2.5l-.94 2.06-2.06.94zm10 10l.94 2.06.94-2.06 2.06-.94-2.06-.94-.94-2.06-.94 2.06-2.06.94z\"/><path d=\"M17.41 7.96l-1.37-1.37c-.4-.4-.92-.59-1.43-.59-.52 0-1.04.2-1.43.59L10.3 9.45l-7.72 7.72c-.78.78-.78 2.05 0 2.83L4 21.41c.39.39.9.59 1.41.59.51 0 1.02-.2 1.41-.59l7.78-7.78 2.81-2.81c.8-.78.8-2.07 0-2.86zM5.41 20L4 18.59l7.72-7.72 1.47 1.35L5.41 20z\"/>\n",
              "  </svg>\n",
              "      </button>\n",
              "      \n",
              "  <style>\n",
              "    .colab-df-container {\n",
              "      display:flex;\n",
              "      flex-wrap:wrap;\n",
              "      gap: 12px;\n",
              "    }\n",
              "\n",
              "    .colab-df-convert {\n",
              "      background-color: #E8F0FE;\n",
              "      border: none;\n",
              "      border-radius: 50%;\n",
              "      cursor: pointer;\n",
              "      display: none;\n",
              "      fill: #1967D2;\n",
              "      height: 32px;\n",
              "      padding: 0 0 0 0;\n",
              "      width: 32px;\n",
              "    }\n",
              "\n",
              "    .colab-df-convert:hover {\n",
              "      background-color: #E2EBFA;\n",
              "      box-shadow: 0px 1px 2px rgba(60, 64, 67, 0.3), 0px 1px 3px 1px rgba(60, 64, 67, 0.15);\n",
              "      fill: #174EA6;\n",
              "    }\n",
              "\n",
              "    [theme=dark] .colab-df-convert {\n",
              "      background-color: #3B4455;\n",
              "      fill: #D2E3FC;\n",
              "    }\n",
              "\n",
              "    [theme=dark] .colab-df-convert:hover {\n",
              "      background-color: #434B5C;\n",
              "      box-shadow: 0px 1px 3px 1px rgba(0, 0, 0, 0.15);\n",
              "      filter: drop-shadow(0px 1px 2px rgba(0, 0, 0, 0.3));\n",
              "      fill: #FFFFFF;\n",
              "    }\n",
              "  </style>\n",
              "\n",
              "      <script>\n",
              "        const buttonEl =\n",
              "          document.querySelector('#df-d9b4c7b9-7561-40af-ab7b-c2144d1033dd button.colab-df-convert');\n",
              "        buttonEl.style.display =\n",
              "          google.colab.kernel.accessAllowed ? 'block' : 'none';\n",
              "\n",
              "        async function convertToInteractive(key) {\n",
              "          const element = document.querySelector('#df-d9b4c7b9-7561-40af-ab7b-c2144d1033dd');\n",
              "          const dataTable =\n",
              "            await google.colab.kernel.invokeFunction('convertToInteractive',\n",
              "                                                     [key], {});\n",
              "          if (!dataTable) return;\n",
              "\n",
              "          const docLinkHtml = 'Like what you see? Visit the ' +\n",
              "            '<a target=\"_blank\" href=https://colab.research.google.com/notebooks/data_table.ipynb>data table notebook</a>'\n",
              "            + ' to learn more about interactive tables.';\n",
              "          element.innerHTML = '';\n",
              "          dataTable['output_type'] = 'display_data';\n",
              "          await google.colab.output.renderOutput(dataTable, element);\n",
              "          const docLink = document.createElement('div');\n",
              "          docLink.innerHTML = docLinkHtml;\n",
              "          element.appendChild(docLink);\n",
              "        }\n",
              "      </script>\n",
              "    </div>\n",
              "  </div>\n",
              "  "
            ],
            "text/plain": [
              "                 id       price  bedrooms  bathrooms  sqft_living    sqft_lot  \\\n",
              "count  2.161300e+04    21613.00  21613.00   21613.00     21613.00    21613.00   \n",
              "mean   4.580302e+09   540088.14      3.37       2.11      2079.90    15106.97   \n",
              "std    2.876566e+09   367127.20      0.93       0.77       918.44    41420.51   \n",
              "min    1.000102e+06    75000.00      0.00       0.00       290.00      520.00   \n",
              "25%    2.123049e+09   321950.00      3.00       1.75      1427.00     5040.00   \n",
              "50%    3.904930e+09   450000.00      3.00       2.25      1910.00     7618.00   \n",
              "75%    7.308900e+09   645000.00      4.00       2.50      2550.00    10688.00   \n",
              "max    9.900000e+09  7700000.00     33.00       8.00     13540.00  1651359.00   \n",
              "\n",
              "         floors  waterfront      view  condition     grade  sqft_above  \\\n",
              "count  21613.00    21613.00  21613.00   21613.00  21613.00    21613.00   \n",
              "mean       1.49        0.01      0.23       3.41      7.66     1788.39   \n",
              "std        0.54        0.09      0.77       0.65      1.18      828.09   \n",
              "min        1.00        0.00      0.00       1.00      1.00      290.00   \n",
              "25%        1.00        0.00      0.00       3.00      7.00     1190.00   \n",
              "50%        1.50        0.00      0.00       3.00      7.00     1560.00   \n",
              "75%        2.00        0.00      0.00       4.00      8.00     2210.00   \n",
              "max        3.50        1.00      4.00       5.00     13.00     9410.00   \n",
              "\n",
              "       sqft_basement  yr_built  yr_renovated   zipcode       lat      long  \n",
              "count       21613.00  21613.00      21613.00  21613.00  21613.00  21613.00  \n",
              "mean          291.51   1971.01         84.40  98077.94     47.56   -122.21  \n",
              "std           442.58     29.37        401.68     53.51      0.14      0.14  \n",
              "min             0.00   1900.00          0.00  98001.00     47.16   -122.52  \n",
              "25%             0.00   1951.00          0.00  98033.00     47.47   -122.33  \n",
              "50%             0.00   1975.00          0.00  98065.00     47.57   -122.23  \n",
              "75%           560.00   1997.00          0.00  98118.00     47.68   -122.12  \n",
              "max          4820.00   2015.00       2015.00  98199.00     47.78   -121.32  "
            ]
          },
          "execution_count": 124,
          "metadata": {},
          "output_type": "execute_result"
        }
      ],
      "source": [
        "dados.describe().round(2)"
      ]
    },
    {
      "cell_type": "code",
      "execution_count": null,
      "metadata": {
        "colab": {
          "base_uri": "https://localhost:8080/",
          "height": 677
        },
        "id": "uBjXfg3AMvgq",
        "outputId": "94b2ee63-0499-497a-c14d-24c279e48cbd"
      },
      "outputs": [
        {
          "data": {
            "text/html": [
              "\n",
              "  <div id=\"df-6fd1f703-0fb0-4882-bcf5-a028e907ced5\">\n",
              "    <div class=\"colab-df-container\">\n",
              "      <div>\n",
              "<style scoped>\n",
              "    .dataframe tbody tr th:only-of-type {\n",
              "        vertical-align: middle;\n",
              "    }\n",
              "\n",
              "    .dataframe tbody tr th {\n",
              "        vertical-align: top;\n",
              "    }\n",
              "\n",
              "    .dataframe thead th {\n",
              "        text-align: right;\n",
              "    }\n",
              "</style>\n",
              "<table border=\"1\" class=\"dataframe\">\n",
              "  <thead>\n",
              "    <tr style=\"text-align: right;\">\n",
              "      <th></th>\n",
              "      <th>id</th>\n",
              "      <th>price</th>\n",
              "      <th>bedrooms</th>\n",
              "      <th>bathrooms</th>\n",
              "      <th>sqft_living</th>\n",
              "      <th>sqft_lot</th>\n",
              "      <th>floors</th>\n",
              "      <th>waterfront</th>\n",
              "      <th>view</th>\n",
              "      <th>condition</th>\n",
              "      <th>grade</th>\n",
              "      <th>sqft_above</th>\n",
              "      <th>sqft_basement</th>\n",
              "      <th>yr_built</th>\n",
              "      <th>yr_renovated</th>\n",
              "      <th>zipcode</th>\n",
              "      <th>lat</th>\n",
              "      <th>long</th>\n",
              "    </tr>\n",
              "  </thead>\n",
              "  <tbody>\n",
              "    <tr>\n",
              "      <th>id</th>\n",
              "      <td>1.0000</td>\n",
              "      <td>-0.0168</td>\n",
              "      <td>0.0013</td>\n",
              "      <td>0.0052</td>\n",
              "      <td>-0.0123</td>\n",
              "      <td>-0.1321</td>\n",
              "      <td>0.0185</td>\n",
              "      <td>-0.0027</td>\n",
              "      <td>0.0116</td>\n",
              "      <td>-0.0238</td>\n",
              "      <td>0.0081</td>\n",
              "      <td>-0.0108</td>\n",
              "      <td>-0.0052</td>\n",
              "      <td>0.0214</td>\n",
              "      <td>-0.0169</td>\n",
              "      <td>-0.0082</td>\n",
              "      <td>-0.0019</td>\n",
              "      <td>0.0208</td>\n",
              "    </tr>\n",
              "    <tr>\n",
              "      <th>price</th>\n",
              "      <td>-0.0168</td>\n",
              "      <td>1.0000</td>\n",
              "      <td>0.3083</td>\n",
              "      <td>0.5251</td>\n",
              "      <td>0.7020</td>\n",
              "      <td>0.0897</td>\n",
              "      <td>0.2568</td>\n",
              "      <td>0.2664</td>\n",
              "      <td>0.3973</td>\n",
              "      <td>0.0364</td>\n",
              "      <td>0.6674</td>\n",
              "      <td>0.6056</td>\n",
              "      <td>0.3238</td>\n",
              "      <td>0.0540</td>\n",
              "      <td>0.1264</td>\n",
              "      <td>-0.0532</td>\n",
              "      <td>0.3070</td>\n",
              "      <td>0.0216</td>\n",
              "    </tr>\n",
              "    <tr>\n",
              "      <th>bedrooms</th>\n",
              "      <td>0.0013</td>\n",
              "      <td>0.3083</td>\n",
              "      <td>1.0000</td>\n",
              "      <td>0.5159</td>\n",
              "      <td>0.5767</td>\n",
              "      <td>0.0317</td>\n",
              "      <td>0.1754</td>\n",
              "      <td>-0.0066</td>\n",
              "      <td>0.0795</td>\n",
              "      <td>0.0285</td>\n",
              "      <td>0.3570</td>\n",
              "      <td>0.4776</td>\n",
              "      <td>0.3031</td>\n",
              "      <td>0.1542</td>\n",
              "      <td>0.0188</td>\n",
              "      <td>-0.1527</td>\n",
              "      <td>-0.0089</td>\n",
              "      <td>0.1295</td>\n",
              "    </tr>\n",
              "    <tr>\n",
              "      <th>bathrooms</th>\n",
              "      <td>0.0052</td>\n",
              "      <td>0.5251</td>\n",
              "      <td>0.5159</td>\n",
              "      <td>1.0000</td>\n",
              "      <td>0.7547</td>\n",
              "      <td>0.0877</td>\n",
              "      <td>0.5007</td>\n",
              "      <td>0.0637</td>\n",
              "      <td>0.1877</td>\n",
              "      <td>-0.1250</td>\n",
              "      <td>0.6650</td>\n",
              "      <td>0.6853</td>\n",
              "      <td>0.2838</td>\n",
              "      <td>0.5060</td>\n",
              "      <td>0.0507</td>\n",
              "      <td>-0.2039</td>\n",
              "      <td>0.0246</td>\n",
              "      <td>0.2230</td>\n",
              "    </tr>\n",
              "    <tr>\n",
              "      <th>sqft_living</th>\n",
              "      <td>-0.0123</td>\n",
              "      <td>0.7020</td>\n",
              "      <td>0.5767</td>\n",
              "      <td>0.7547</td>\n",
              "      <td>1.0000</td>\n",
              "      <td>0.1728</td>\n",
              "      <td>0.3539</td>\n",
              "      <td>0.1038</td>\n",
              "      <td>0.2846</td>\n",
              "      <td>-0.0588</td>\n",
              "      <td>0.7627</td>\n",
              "      <td>0.8766</td>\n",
              "      <td>0.4350</td>\n",
              "      <td>0.3180</td>\n",
              "      <td>0.0554</td>\n",
              "      <td>-0.1994</td>\n",
              "      <td>0.0525</td>\n",
              "      <td>0.2402</td>\n",
              "    </tr>\n",
              "    <tr>\n",
              "      <th>sqft_lot</th>\n",
              "      <td>-0.1321</td>\n",
              "      <td>0.0897</td>\n",
              "      <td>0.0317</td>\n",
              "      <td>0.0877</td>\n",
              "      <td>0.1728</td>\n",
              "      <td>1.0000</td>\n",
              "      <td>-0.0052</td>\n",
              "      <td>0.0216</td>\n",
              "      <td>0.0747</td>\n",
              "      <td>-0.0090</td>\n",
              "      <td>0.1136</td>\n",
              "      <td>0.1835</td>\n",
              "      <td>0.0153</td>\n",
              "      <td>0.0531</td>\n",
              "      <td>0.0076</td>\n",
              "      <td>-0.1296</td>\n",
              "      <td>-0.0857</td>\n",
              "      <td>0.2295</td>\n",
              "    </tr>\n",
              "    <tr>\n",
              "      <th>floors</th>\n",
              "      <td>0.0185</td>\n",
              "      <td>0.2568</td>\n",
              "      <td>0.1754</td>\n",
              "      <td>0.5007</td>\n",
              "      <td>0.3539</td>\n",
              "      <td>-0.0052</td>\n",
              "      <td>1.0000</td>\n",
              "      <td>0.0237</td>\n",
              "      <td>0.0294</td>\n",
              "      <td>-0.2638</td>\n",
              "      <td>0.4582</td>\n",
              "      <td>0.5239</td>\n",
              "      <td>-0.2457</td>\n",
              "      <td>0.4893</td>\n",
              "      <td>0.0063</td>\n",
              "      <td>-0.0591</td>\n",
              "      <td>0.0496</td>\n",
              "      <td>0.1254</td>\n",
              "    </tr>\n",
              "    <tr>\n",
              "      <th>waterfront</th>\n",
              "      <td>-0.0027</td>\n",
              "      <td>0.2664</td>\n",
              "      <td>-0.0066</td>\n",
              "      <td>0.0637</td>\n",
              "      <td>0.1038</td>\n",
              "      <td>0.0216</td>\n",
              "      <td>0.0237</td>\n",
              "      <td>1.0000</td>\n",
              "      <td>0.4019</td>\n",
              "      <td>0.0167</td>\n",
              "      <td>0.0828</td>\n",
              "      <td>0.0721</td>\n",
              "      <td>0.0806</td>\n",
              "      <td>-0.0262</td>\n",
              "      <td>0.0929</td>\n",
              "      <td>0.0303</td>\n",
              "      <td>-0.0143</td>\n",
              "      <td>-0.0419</td>\n",
              "    </tr>\n",
              "    <tr>\n",
              "      <th>view</th>\n",
              "      <td>0.0116</td>\n",
              "      <td>0.3973</td>\n",
              "      <td>0.0795</td>\n",
              "      <td>0.1877</td>\n",
              "      <td>0.2846</td>\n",
              "      <td>0.0747</td>\n",
              "      <td>0.0294</td>\n",
              "      <td>0.4019</td>\n",
              "      <td>1.0000</td>\n",
              "      <td>0.0460</td>\n",
              "      <td>0.2513</td>\n",
              "      <td>0.1676</td>\n",
              "      <td>0.2769</td>\n",
              "      <td>-0.0534</td>\n",
              "      <td>0.1039</td>\n",
              "      <td>0.0848</td>\n",
              "      <td>0.0062</td>\n",
              "      <td>-0.0784</td>\n",
              "    </tr>\n",
              "    <tr>\n",
              "      <th>condition</th>\n",
              "      <td>-0.0238</td>\n",
              "      <td>0.0364</td>\n",
              "      <td>0.0285</td>\n",
              "      <td>-0.1250</td>\n",
              "      <td>-0.0588</td>\n",
              "      <td>-0.0090</td>\n",
              "      <td>-0.2638</td>\n",
              "      <td>0.0167</td>\n",
              "      <td>0.0460</td>\n",
              "      <td>1.0000</td>\n",
              "      <td>-0.1447</td>\n",
              "      <td>-0.1582</td>\n",
              "      <td>0.1741</td>\n",
              "      <td>-0.3614</td>\n",
              "      <td>-0.0606</td>\n",
              "      <td>0.0030</td>\n",
              "      <td>-0.0149</td>\n",
              "      <td>-0.1065</td>\n",
              "    </tr>\n",
              "    <tr>\n",
              "      <th>grade</th>\n",
              "      <td>0.0081</td>\n",
              "      <td>0.6674</td>\n",
              "      <td>0.3570</td>\n",
              "      <td>0.6650</td>\n",
              "      <td>0.7627</td>\n",
              "      <td>0.1136</td>\n",
              "      <td>0.4582</td>\n",
              "      <td>0.0828</td>\n",
              "      <td>0.2513</td>\n",
              "      <td>-0.1447</td>\n",
              "      <td>1.0000</td>\n",
              "      <td>0.7559</td>\n",
              "      <td>0.1684</td>\n",
              "      <td>0.4470</td>\n",
              "      <td>0.0144</td>\n",
              "      <td>-0.1849</td>\n",
              "      <td>0.1141</td>\n",
              "      <td>0.1984</td>\n",
              "    </tr>\n",
              "    <tr>\n",
              "      <th>sqft_above</th>\n",
              "      <td>-0.0108</td>\n",
              "      <td>0.6056</td>\n",
              "      <td>0.4776</td>\n",
              "      <td>0.6853</td>\n",
              "      <td>0.8766</td>\n",
              "      <td>0.1835</td>\n",
              "      <td>0.5239</td>\n",
              "      <td>0.0721</td>\n",
              "      <td>0.1676</td>\n",
              "      <td>-0.1582</td>\n",
              "      <td>0.7559</td>\n",
              "      <td>1.0000</td>\n",
              "      <td>-0.0519</td>\n",
              "      <td>0.4239</td>\n",
              "      <td>0.0233</td>\n",
              "      <td>-0.2612</td>\n",
              "      <td>-0.0008</td>\n",
              "      <td>0.3438</td>\n",
              "    </tr>\n",
              "    <tr>\n",
              "      <th>sqft_basement</th>\n",
              "      <td>-0.0052</td>\n",
              "      <td>0.3238</td>\n",
              "      <td>0.3031</td>\n",
              "      <td>0.2838</td>\n",
              "      <td>0.4350</td>\n",
              "      <td>0.0153</td>\n",
              "      <td>-0.2457</td>\n",
              "      <td>0.0806</td>\n",
              "      <td>0.2769</td>\n",
              "      <td>0.1741</td>\n",
              "      <td>0.1684</td>\n",
              "      <td>-0.0519</td>\n",
              "      <td>1.0000</td>\n",
              "      <td>-0.1331</td>\n",
              "      <td>0.0713</td>\n",
              "      <td>0.0748</td>\n",
              "      <td>0.1105</td>\n",
              "      <td>-0.1448</td>\n",
              "    </tr>\n",
              "    <tr>\n",
              "      <th>yr_built</th>\n",
              "      <td>0.0214</td>\n",
              "      <td>0.0540</td>\n",
              "      <td>0.1542</td>\n",
              "      <td>0.5060</td>\n",
              "      <td>0.3180</td>\n",
              "      <td>0.0531</td>\n",
              "      <td>0.4893</td>\n",
              "      <td>-0.0262</td>\n",
              "      <td>-0.0534</td>\n",
              "      <td>-0.3614</td>\n",
              "      <td>0.4470</td>\n",
              "      <td>0.4239</td>\n",
              "      <td>-0.1331</td>\n",
              "      <td>1.0000</td>\n",
              "      <td>-0.2249</td>\n",
              "      <td>-0.3469</td>\n",
              "      <td>-0.1481</td>\n",
              "      <td>0.4094</td>\n",
              "    </tr>\n",
              "    <tr>\n",
              "      <th>yr_renovated</th>\n",
              "      <td>-0.0169</td>\n",
              "      <td>0.1264</td>\n",
              "      <td>0.0188</td>\n",
              "      <td>0.0507</td>\n",
              "      <td>0.0554</td>\n",
              "      <td>0.0076</td>\n",
              "      <td>0.0063</td>\n",
              "      <td>0.0929</td>\n",
              "      <td>0.1039</td>\n",
              "      <td>-0.0606</td>\n",
              "      <td>0.0144</td>\n",
              "      <td>0.0233</td>\n",
              "      <td>0.0713</td>\n",
              "      <td>-0.2249</td>\n",
              "      <td>1.0000</td>\n",
              "      <td>0.0644</td>\n",
              "      <td>0.0294</td>\n",
              "      <td>-0.0684</td>\n",
              "    </tr>\n",
              "    <tr>\n",
              "      <th>zipcode</th>\n",
              "      <td>-0.0082</td>\n",
              "      <td>-0.0532</td>\n",
              "      <td>-0.1527</td>\n",
              "      <td>-0.2039</td>\n",
              "      <td>-0.1994</td>\n",
              "      <td>-0.1296</td>\n",
              "      <td>-0.0591</td>\n",
              "      <td>0.0303</td>\n",
              "      <td>0.0848</td>\n",
              "      <td>0.0030</td>\n",
              "      <td>-0.1849</td>\n",
              "      <td>-0.2612</td>\n",
              "      <td>0.0748</td>\n",
              "      <td>-0.3469</td>\n",
              "      <td>0.0644</td>\n",
              "      <td>1.0000</td>\n",
              "      <td>0.2670</td>\n",
              "      <td>-0.5641</td>\n",
              "    </tr>\n",
              "    <tr>\n",
              "      <th>lat</th>\n",
              "      <td>-0.0019</td>\n",
              "      <td>0.3070</td>\n",
              "      <td>-0.0089</td>\n",
              "      <td>0.0246</td>\n",
              "      <td>0.0525</td>\n",
              "      <td>-0.0857</td>\n",
              "      <td>0.0496</td>\n",
              "      <td>-0.0143</td>\n",
              "      <td>0.0062</td>\n",
              "      <td>-0.0149</td>\n",
              "      <td>0.1141</td>\n",
              "      <td>-0.0008</td>\n",
              "      <td>0.1105</td>\n",
              "      <td>-0.1481</td>\n",
              "      <td>0.0294</td>\n",
              "      <td>0.2670</td>\n",
              "      <td>1.0000</td>\n",
              "      <td>-0.1355</td>\n",
              "    </tr>\n",
              "    <tr>\n",
              "      <th>long</th>\n",
              "      <td>0.0208</td>\n",
              "      <td>0.0216</td>\n",
              "      <td>0.1295</td>\n",
              "      <td>0.2230</td>\n",
              "      <td>0.2402</td>\n",
              "      <td>0.2295</td>\n",
              "      <td>0.1254</td>\n",
              "      <td>-0.0419</td>\n",
              "      <td>-0.0784</td>\n",
              "      <td>-0.1065</td>\n",
              "      <td>0.1984</td>\n",
              "      <td>0.3438</td>\n",
              "      <td>-0.1448</td>\n",
              "      <td>0.4094</td>\n",
              "      <td>-0.0684</td>\n",
              "      <td>-0.5641</td>\n",
              "      <td>-0.1355</td>\n",
              "      <td>1.0000</td>\n",
              "    </tr>\n",
              "  </tbody>\n",
              "</table>\n",
              "</div>\n",
              "      <button class=\"colab-df-convert\" onclick=\"convertToInteractive('df-6fd1f703-0fb0-4882-bcf5-a028e907ced5')\"\n",
              "              title=\"Convert this dataframe to an interactive table.\"\n",
              "              style=\"display:none;\">\n",
              "        \n",
              "  <svg xmlns=\"http://www.w3.org/2000/svg\" height=\"24px\"viewBox=\"0 0 24 24\"\n",
              "       width=\"24px\">\n",
              "    <path d=\"M0 0h24v24H0V0z\" fill=\"none\"/>\n",
              "    <path d=\"M18.56 5.44l.94 2.06.94-2.06 2.06-.94-2.06-.94-.94-2.06-.94 2.06-2.06.94zm-11 1L8.5 8.5l.94-2.06 2.06-.94-2.06-.94L8.5 2.5l-.94 2.06-2.06.94zm10 10l.94 2.06.94-2.06 2.06-.94-2.06-.94-.94-2.06-.94 2.06-2.06.94z\"/><path d=\"M17.41 7.96l-1.37-1.37c-.4-.4-.92-.59-1.43-.59-.52 0-1.04.2-1.43.59L10.3 9.45l-7.72 7.72c-.78.78-.78 2.05 0 2.83L4 21.41c.39.39.9.59 1.41.59.51 0 1.02-.2 1.41-.59l7.78-7.78 2.81-2.81c.8-.78.8-2.07 0-2.86zM5.41 20L4 18.59l7.72-7.72 1.47 1.35L5.41 20z\"/>\n",
              "  </svg>\n",
              "      </button>\n",
              "      \n",
              "  <style>\n",
              "    .colab-df-container {\n",
              "      display:flex;\n",
              "      flex-wrap:wrap;\n",
              "      gap: 12px;\n",
              "    }\n",
              "\n",
              "    .colab-df-convert {\n",
              "      background-color: #E8F0FE;\n",
              "      border: none;\n",
              "      border-radius: 50%;\n",
              "      cursor: pointer;\n",
              "      display: none;\n",
              "      fill: #1967D2;\n",
              "      height: 32px;\n",
              "      padding: 0 0 0 0;\n",
              "      width: 32px;\n",
              "    }\n",
              "\n",
              "    .colab-df-convert:hover {\n",
              "      background-color: #E2EBFA;\n",
              "      box-shadow: 0px 1px 2px rgba(60, 64, 67, 0.3), 0px 1px 3px 1px rgba(60, 64, 67, 0.15);\n",
              "      fill: #174EA6;\n",
              "    }\n",
              "\n",
              "    [theme=dark] .colab-df-convert {\n",
              "      background-color: #3B4455;\n",
              "      fill: #D2E3FC;\n",
              "    }\n",
              "\n",
              "    [theme=dark] .colab-df-convert:hover {\n",
              "      background-color: #434B5C;\n",
              "      box-shadow: 0px 1px 3px 1px rgba(0, 0, 0, 0.15);\n",
              "      filter: drop-shadow(0px 1px 2px rgba(0, 0, 0, 0.3));\n",
              "      fill: #FFFFFF;\n",
              "    }\n",
              "  </style>\n",
              "\n",
              "      <script>\n",
              "        const buttonEl =\n",
              "          document.querySelector('#df-6fd1f703-0fb0-4882-bcf5-a028e907ced5 button.colab-df-convert');\n",
              "        buttonEl.style.display =\n",
              "          google.colab.kernel.accessAllowed ? 'block' : 'none';\n",
              "\n",
              "        async function convertToInteractive(key) {\n",
              "          const element = document.querySelector('#df-6fd1f703-0fb0-4882-bcf5-a028e907ced5');\n",
              "          const dataTable =\n",
              "            await google.colab.kernel.invokeFunction('convertToInteractive',\n",
              "                                                     [key], {});\n",
              "          if (!dataTable) return;\n",
              "\n",
              "          const docLinkHtml = 'Like what you see? Visit the ' +\n",
              "            '<a target=\"_blank\" href=https://colab.research.google.com/notebooks/data_table.ipynb>data table notebook</a>'\n",
              "            + ' to learn more about interactive tables.';\n",
              "          element.innerHTML = '';\n",
              "          dataTable['output_type'] = 'display_data';\n",
              "          await google.colab.output.renderOutput(dataTable, element);\n",
              "          const docLink = document.createElement('div');\n",
              "          docLink.innerHTML = docLinkHtml;\n",
              "          element.appendChild(docLink);\n",
              "        }\n",
              "      </script>\n",
              "    </div>\n",
              "  </div>\n",
              "  "
            ],
            "text/plain": [
              "                   id   price  bedrooms  bathrooms  sqft_living  sqft_lot  \\\n",
              "id             1.0000 -0.0168    0.0013     0.0052      -0.0123   -0.1321   \n",
              "price         -0.0168  1.0000    0.3083     0.5251       0.7020    0.0897   \n",
              "bedrooms       0.0013  0.3083    1.0000     0.5159       0.5767    0.0317   \n",
              "bathrooms      0.0052  0.5251    0.5159     1.0000       0.7547    0.0877   \n",
              "sqft_living   -0.0123  0.7020    0.5767     0.7547       1.0000    0.1728   \n",
              "sqft_lot      -0.1321  0.0897    0.0317     0.0877       0.1728    1.0000   \n",
              "floors         0.0185  0.2568    0.1754     0.5007       0.3539   -0.0052   \n",
              "waterfront    -0.0027  0.2664   -0.0066     0.0637       0.1038    0.0216   \n",
              "view           0.0116  0.3973    0.0795     0.1877       0.2846    0.0747   \n",
              "condition     -0.0238  0.0364    0.0285    -0.1250      -0.0588   -0.0090   \n",
              "grade          0.0081  0.6674    0.3570     0.6650       0.7627    0.1136   \n",
              "sqft_above    -0.0108  0.6056    0.4776     0.6853       0.8766    0.1835   \n",
              "sqft_basement -0.0052  0.3238    0.3031     0.2838       0.4350    0.0153   \n",
              "yr_built       0.0214  0.0540    0.1542     0.5060       0.3180    0.0531   \n",
              "yr_renovated  -0.0169  0.1264    0.0188     0.0507       0.0554    0.0076   \n",
              "zipcode       -0.0082 -0.0532   -0.1527    -0.2039      -0.1994   -0.1296   \n",
              "lat           -0.0019  0.3070   -0.0089     0.0246       0.0525   -0.0857   \n",
              "long           0.0208  0.0216    0.1295     0.2230       0.2402    0.2295   \n",
              "\n",
              "               floors  waterfront    view  condition   grade  sqft_above  \\\n",
              "id             0.0185     -0.0027  0.0116    -0.0238  0.0081     -0.0108   \n",
              "price          0.2568      0.2664  0.3973     0.0364  0.6674      0.6056   \n",
              "bedrooms       0.1754     -0.0066  0.0795     0.0285  0.3570      0.4776   \n",
              "bathrooms      0.5007      0.0637  0.1877    -0.1250  0.6650      0.6853   \n",
              "sqft_living    0.3539      0.1038  0.2846    -0.0588  0.7627      0.8766   \n",
              "sqft_lot      -0.0052      0.0216  0.0747    -0.0090  0.1136      0.1835   \n",
              "floors         1.0000      0.0237  0.0294    -0.2638  0.4582      0.5239   \n",
              "waterfront     0.0237      1.0000  0.4019     0.0167  0.0828      0.0721   \n",
              "view           0.0294      0.4019  1.0000     0.0460  0.2513      0.1676   \n",
              "condition     -0.2638      0.0167  0.0460     1.0000 -0.1447     -0.1582   \n",
              "grade          0.4582      0.0828  0.2513    -0.1447  1.0000      0.7559   \n",
              "sqft_above     0.5239      0.0721  0.1676    -0.1582  0.7559      1.0000   \n",
              "sqft_basement -0.2457      0.0806  0.2769     0.1741  0.1684     -0.0519   \n",
              "yr_built       0.4893     -0.0262 -0.0534    -0.3614  0.4470      0.4239   \n",
              "yr_renovated   0.0063      0.0929  0.1039    -0.0606  0.0144      0.0233   \n",
              "zipcode       -0.0591      0.0303  0.0848     0.0030 -0.1849     -0.2612   \n",
              "lat            0.0496     -0.0143  0.0062    -0.0149  0.1141     -0.0008   \n",
              "long           0.1254     -0.0419 -0.0784    -0.1065  0.1984      0.3438   \n",
              "\n",
              "               sqft_basement  yr_built  yr_renovated  zipcode     lat    long  \n",
              "id                   -0.0052    0.0214       -0.0169  -0.0082 -0.0019  0.0208  \n",
              "price                 0.3238    0.0540        0.1264  -0.0532  0.3070  0.0216  \n",
              "bedrooms              0.3031    0.1542        0.0188  -0.1527 -0.0089  0.1295  \n",
              "bathrooms             0.2838    0.5060        0.0507  -0.2039  0.0246  0.2230  \n",
              "sqft_living           0.4350    0.3180        0.0554  -0.1994  0.0525  0.2402  \n",
              "sqft_lot              0.0153    0.0531        0.0076  -0.1296 -0.0857  0.2295  \n",
              "floors               -0.2457    0.4893        0.0063  -0.0591  0.0496  0.1254  \n",
              "waterfront            0.0806   -0.0262        0.0929   0.0303 -0.0143 -0.0419  \n",
              "view                  0.2769   -0.0534        0.1039   0.0848  0.0062 -0.0784  \n",
              "condition             0.1741   -0.3614       -0.0606   0.0030 -0.0149 -0.1065  \n",
              "grade                 0.1684    0.4470        0.0144  -0.1849  0.1141  0.1984  \n",
              "sqft_above           -0.0519    0.4239        0.0233  -0.2612 -0.0008  0.3438  \n",
              "sqft_basement         1.0000   -0.1331        0.0713   0.0748  0.1105 -0.1448  \n",
              "yr_built             -0.1331    1.0000       -0.2249  -0.3469 -0.1481  0.4094  \n",
              "yr_renovated          0.0713   -0.2249        1.0000   0.0644  0.0294 -0.0684  \n",
              "zipcode               0.0748   -0.3469        0.0644   1.0000  0.2670 -0.5641  \n",
              "lat                   0.1105   -0.1481        0.0294   0.2670  1.0000 -0.1355  \n",
              "long                 -0.1448    0.4094       -0.0684  -0.5641 -0.1355  1.0000  "
            ]
          },
          "execution_count": 125,
          "metadata": {},
          "output_type": "execute_result"
        }
      ],
      "source": [
        "dados.corr().round(4)"
      ]
    },
    {
      "cell_type": "code",
      "execution_count": null,
      "metadata": {
        "colab": {
          "base_uri": "https://localhost:8080/"
        },
        "id": "iHRzpO8hdQPA",
        "outputId": "a268610d-a05f-4d54-eecc-8e89938916c2"
      },
      "outputs": [
        {
          "data": {
            "text/plain": [
              "zipcode         -0.0532\n",
              "id              -0.0168\n",
              "long             0.0216\n",
              "condition        0.0364\n",
              "yr_built         0.0540\n",
              "sqft_lot         0.0897\n",
              "yr_renovated     0.1264\n",
              "floors           0.2568\n",
              "waterfront       0.2664\n",
              "lat              0.3070\n",
              "bedrooms         0.3083\n",
              "sqft_basement    0.3238\n",
              "view             0.3973\n",
              "bathrooms        0.5251\n",
              "sqft_above       0.6056\n",
              "grade            0.6674\n",
              "sqft_living      0.7020\n",
              "price            1.0000\n",
              "Name: price, dtype: float64"
            ]
          },
          "execution_count": 126,
          "metadata": {},
          "output_type": "execute_result"
        }
      ],
      "source": [
        "corr = dados.corr().round(4)\n",
        "corr_price = corr['price']\n",
        "corr_price.sort_values()"
      ]
    },
    {
      "cell_type": "code",
      "execution_count": null,
      "metadata": {
        "colab": {
          "base_uri": "https://localhost:8080/"
        },
        "id": "q4VEcXy3ObaO",
        "outputId": "4b2856f4-7809-4831-b7d0-0b3f6715fae5"
      },
      "outputs": [
        {
          "name": "stdout",
          "output_type": "stream",
          "text": [
            "1.0\n",
            "0.3083\n",
            "0.5251\n",
            "0.702\n",
            "0.3973\n",
            "0.6674\n",
            "0.6056\n",
            "0.3238\n",
            "0.307\n"
          ]
        }
      ],
      "source": [
        "for i in range(len(corr_price)):\n",
        "  if abs(corr_price[i]) > 0.3:\n",
        "    print(corr_price[i])"
      ]
    },
    {
      "cell_type": "markdown",
      "metadata": {
        "id": "aAUDcCX1ZWip"
      },
      "source": [
        "Não precisamos de todos esses dados, então vamos recortar nosso dataset. Escolheremos apenas algumas variáveis para influenciar na precificação do imóvel. Ou seja, o que não é relevante será descartado."
      ]
    },
    {
      "cell_type": "code",
      "execution_count": null,
      "metadata": {
        "id": "UU7xyo2rLKFP"
      },
      "outputs": [],
      "source": [
        "dados = dados.dropna(axis = 0, how = 'any')"
      ]
    },
    {
      "cell_type": "code",
      "execution_count": null,
      "metadata": {
        "colab": {
          "base_uri": "https://localhost:8080/"
        },
        "id": "qDms5qQcLQlH",
        "outputId": "8464b31a-d6c9-4c9a-f14e-5670915ad230"
      },
      "outputs": [
        {
          "data": {
            "text/plain": [
              "id               0\n",
              "date             0\n",
              "price            0\n",
              "bedrooms         0\n",
              "bathrooms        0\n",
              "sqft_living      0\n",
              "sqft_lot         0\n",
              "floors           0\n",
              "waterfront       0\n",
              "view             0\n",
              "condition        0\n",
              "grade            0\n",
              "sqft_above       0\n",
              "sqft_basement    0\n",
              "yr_built         0\n",
              "yr_renovated     0\n",
              "zipcode          0\n",
              "lat              0\n",
              "long             0\n",
              "dtype: int64"
            ]
          },
          "execution_count": 129,
          "metadata": {},
          "output_type": "execute_result"
        }
      ],
      "source": [
        "dados.isnull().sum()"
      ]
    },
    {
      "cell_type": "markdown",
      "metadata": {
        "id": "g_87i2DSJTQ5"
      },
      "source": [
        "# 🔙 Modelos Regressivos: Análises"
      ]
    },
    {
      "cell_type": "code",
      "execution_count": null,
      "metadata": {
        "colab": {
          "base_uri": "https://localhost:8080/",
          "height": 270
        },
        "id": "jdfdw_nH54Vn",
        "outputId": "01de4213-194e-4a36-eca5-471327a397d6"
      },
      "outputs": [
        {
          "data": {
            "text/html": [
              "\n",
              "  <div id=\"df-207134fa-aeb6-4655-9124-82230133255b\">\n",
              "    <div class=\"colab-df-container\">\n",
              "      <div>\n",
              "<style scoped>\n",
              "    .dataframe tbody tr th:only-of-type {\n",
              "        vertical-align: middle;\n",
              "    }\n",
              "\n",
              "    .dataframe tbody tr th {\n",
              "        vertical-align: top;\n",
              "    }\n",
              "\n",
              "    .dataframe thead th {\n",
              "        text-align: right;\n",
              "    }\n",
              "</style>\n",
              "<table border=\"1\" class=\"dataframe\">\n",
              "  <thead>\n",
              "    <tr style=\"text-align: right;\">\n",
              "      <th></th>\n",
              "      <th>id</th>\n",
              "      <th>date</th>\n",
              "      <th>price</th>\n",
              "      <th>bedrooms</th>\n",
              "      <th>bathrooms</th>\n",
              "      <th>sqft_living</th>\n",
              "      <th>sqft_lot</th>\n",
              "      <th>floors</th>\n",
              "      <th>waterfront</th>\n",
              "      <th>view</th>\n",
              "      <th>condition</th>\n",
              "      <th>grade</th>\n",
              "      <th>sqft_above</th>\n",
              "      <th>sqft_basement</th>\n",
              "      <th>yr_built</th>\n",
              "      <th>yr_renovated</th>\n",
              "      <th>zipcode</th>\n",
              "      <th>lat</th>\n",
              "      <th>long</th>\n",
              "    </tr>\n",
              "  </thead>\n",
              "  <tbody>\n",
              "    <tr>\n",
              "      <th>0</th>\n",
              "      <td>7129300520</td>\n",
              "      <td>20141013T000000</td>\n",
              "      <td>221900.0</td>\n",
              "      <td>3</td>\n",
              "      <td>1.00</td>\n",
              "      <td>1180</td>\n",
              "      <td>5650</td>\n",
              "      <td>1.0</td>\n",
              "      <td>0</td>\n",
              "      <td>0</td>\n",
              "      <td>3</td>\n",
              "      <td>7</td>\n",
              "      <td>1180</td>\n",
              "      <td>0</td>\n",
              "      <td>1955</td>\n",
              "      <td>0</td>\n",
              "      <td>98178</td>\n",
              "      <td>47.5112</td>\n",
              "      <td>-122.257</td>\n",
              "    </tr>\n",
              "    <tr>\n",
              "      <th>1</th>\n",
              "      <td>6414100192</td>\n",
              "      <td>20141209T000000</td>\n",
              "      <td>538000.0</td>\n",
              "      <td>3</td>\n",
              "      <td>2.25</td>\n",
              "      <td>2570</td>\n",
              "      <td>7242</td>\n",
              "      <td>2.0</td>\n",
              "      <td>0</td>\n",
              "      <td>0</td>\n",
              "      <td>3</td>\n",
              "      <td>7</td>\n",
              "      <td>2170</td>\n",
              "      <td>400</td>\n",
              "      <td>1951</td>\n",
              "      <td>1991</td>\n",
              "      <td>98125</td>\n",
              "      <td>47.7210</td>\n",
              "      <td>-122.319</td>\n",
              "    </tr>\n",
              "    <tr>\n",
              "      <th>2</th>\n",
              "      <td>5631500400</td>\n",
              "      <td>20150225T000000</td>\n",
              "      <td>180000.0</td>\n",
              "      <td>2</td>\n",
              "      <td>1.00</td>\n",
              "      <td>770</td>\n",
              "      <td>10000</td>\n",
              "      <td>1.0</td>\n",
              "      <td>0</td>\n",
              "      <td>0</td>\n",
              "      <td>3</td>\n",
              "      <td>6</td>\n",
              "      <td>770</td>\n",
              "      <td>0</td>\n",
              "      <td>1933</td>\n",
              "      <td>0</td>\n",
              "      <td>98028</td>\n",
              "      <td>47.7379</td>\n",
              "      <td>-122.233</td>\n",
              "    </tr>\n",
              "    <tr>\n",
              "      <th>3</th>\n",
              "      <td>2487200875</td>\n",
              "      <td>20141209T000000</td>\n",
              "      <td>604000.0</td>\n",
              "      <td>4</td>\n",
              "      <td>3.00</td>\n",
              "      <td>1960</td>\n",
              "      <td>5000</td>\n",
              "      <td>1.0</td>\n",
              "      <td>0</td>\n",
              "      <td>0</td>\n",
              "      <td>5</td>\n",
              "      <td>7</td>\n",
              "      <td>1050</td>\n",
              "      <td>910</td>\n",
              "      <td>1965</td>\n",
              "      <td>0</td>\n",
              "      <td>98136</td>\n",
              "      <td>47.5208</td>\n",
              "      <td>-122.393</td>\n",
              "    </tr>\n",
              "    <tr>\n",
              "      <th>4</th>\n",
              "      <td>1954400510</td>\n",
              "      <td>20150218T000000</td>\n",
              "      <td>510000.0</td>\n",
              "      <td>3</td>\n",
              "      <td>2.00</td>\n",
              "      <td>1680</td>\n",
              "      <td>8080</td>\n",
              "      <td>1.0</td>\n",
              "      <td>0</td>\n",
              "      <td>0</td>\n",
              "      <td>3</td>\n",
              "      <td>8</td>\n",
              "      <td>1680</td>\n",
              "      <td>0</td>\n",
              "      <td>1987</td>\n",
              "      <td>0</td>\n",
              "      <td>98074</td>\n",
              "      <td>47.6168</td>\n",
              "      <td>-122.045</td>\n",
              "    </tr>\n",
              "  </tbody>\n",
              "</table>\n",
              "</div>\n",
              "      <button class=\"colab-df-convert\" onclick=\"convertToInteractive('df-207134fa-aeb6-4655-9124-82230133255b')\"\n",
              "              title=\"Convert this dataframe to an interactive table.\"\n",
              "              style=\"display:none;\">\n",
              "        \n",
              "  <svg xmlns=\"http://www.w3.org/2000/svg\" height=\"24px\"viewBox=\"0 0 24 24\"\n",
              "       width=\"24px\">\n",
              "    <path d=\"M0 0h24v24H0V0z\" fill=\"none\"/>\n",
              "    <path d=\"M18.56 5.44l.94 2.06.94-2.06 2.06-.94-2.06-.94-.94-2.06-.94 2.06-2.06.94zm-11 1L8.5 8.5l.94-2.06 2.06-.94-2.06-.94L8.5 2.5l-.94 2.06-2.06.94zm10 10l.94 2.06.94-2.06 2.06-.94-2.06-.94-.94-2.06-.94 2.06-2.06.94z\"/><path d=\"M17.41 7.96l-1.37-1.37c-.4-.4-.92-.59-1.43-.59-.52 0-1.04.2-1.43.59L10.3 9.45l-7.72 7.72c-.78.78-.78 2.05 0 2.83L4 21.41c.39.39.9.59 1.41.59.51 0 1.02-.2 1.41-.59l7.78-7.78 2.81-2.81c.8-.78.8-2.07 0-2.86zM5.41 20L4 18.59l7.72-7.72 1.47 1.35L5.41 20z\"/>\n",
              "  </svg>\n",
              "      </button>\n",
              "      \n",
              "  <style>\n",
              "    .colab-df-container {\n",
              "      display:flex;\n",
              "      flex-wrap:wrap;\n",
              "      gap: 12px;\n",
              "    }\n",
              "\n",
              "    .colab-df-convert {\n",
              "      background-color: #E8F0FE;\n",
              "      border: none;\n",
              "      border-radius: 50%;\n",
              "      cursor: pointer;\n",
              "      display: none;\n",
              "      fill: #1967D2;\n",
              "      height: 32px;\n",
              "      padding: 0 0 0 0;\n",
              "      width: 32px;\n",
              "    }\n",
              "\n",
              "    .colab-df-convert:hover {\n",
              "      background-color: #E2EBFA;\n",
              "      box-shadow: 0px 1px 2px rgba(60, 64, 67, 0.3), 0px 1px 3px 1px rgba(60, 64, 67, 0.15);\n",
              "      fill: #174EA6;\n",
              "    }\n",
              "\n",
              "    [theme=dark] .colab-df-convert {\n",
              "      background-color: #3B4455;\n",
              "      fill: #D2E3FC;\n",
              "    }\n",
              "\n",
              "    [theme=dark] .colab-df-convert:hover {\n",
              "      background-color: #434B5C;\n",
              "      box-shadow: 0px 1px 3px 1px rgba(0, 0, 0, 0.15);\n",
              "      filter: drop-shadow(0px 1px 2px rgba(0, 0, 0, 0.3));\n",
              "      fill: #FFFFFF;\n",
              "    }\n",
              "  </style>\n",
              "\n",
              "      <script>\n",
              "        const buttonEl =\n",
              "          document.querySelector('#df-207134fa-aeb6-4655-9124-82230133255b button.colab-df-convert');\n",
              "        buttonEl.style.display =\n",
              "          google.colab.kernel.accessAllowed ? 'block' : 'none';\n",
              "\n",
              "        async function convertToInteractive(key) {\n",
              "          const element = document.querySelector('#df-207134fa-aeb6-4655-9124-82230133255b');\n",
              "          const dataTable =\n",
              "            await google.colab.kernel.invokeFunction('convertToInteractive',\n",
              "                                                     [key], {});\n",
              "          if (!dataTable) return;\n",
              "\n",
              "          const docLinkHtml = 'Like what you see? Visit the ' +\n",
              "            '<a target=\"_blank\" href=https://colab.research.google.com/notebooks/data_table.ipynb>data table notebook</a>'\n",
              "            + ' to learn more about interactive tables.';\n",
              "          element.innerHTML = '';\n",
              "          dataTable['output_type'] = 'display_data';\n",
              "          await google.colab.output.renderOutput(dataTable, element);\n",
              "          const docLink = document.createElement('div');\n",
              "          docLink.innerHTML = docLinkHtml;\n",
              "          element.appendChild(docLink);\n",
              "        }\n",
              "      </script>\n",
              "    </div>\n",
              "  </div>\n",
              "  "
            ],
            "text/plain": [
              "           id             date     price  bedrooms  bathrooms  sqft_living  \\\n",
              "0  7129300520  20141013T000000  221900.0         3       1.00         1180   \n",
              "1  6414100192  20141209T000000  538000.0         3       2.25         2570   \n",
              "2  5631500400  20150225T000000  180000.0         2       1.00          770   \n",
              "3  2487200875  20141209T000000  604000.0         4       3.00         1960   \n",
              "4  1954400510  20150218T000000  510000.0         3       2.00         1680   \n",
              "\n",
              "   sqft_lot  floors  waterfront  view  condition  grade  sqft_above  \\\n",
              "0      5650     1.0           0     0          3      7        1180   \n",
              "1      7242     2.0           0     0          3      7        2170   \n",
              "2     10000     1.0           0     0          3      6         770   \n",
              "3      5000     1.0           0     0          5      7        1050   \n",
              "4      8080     1.0           0     0          3      8        1680   \n",
              "\n",
              "   sqft_basement  yr_built  yr_renovated  zipcode      lat     long  \n",
              "0              0      1955             0    98178  47.5112 -122.257  \n",
              "1            400      1951          1991    98125  47.7210 -122.319  \n",
              "2              0      1933             0    98028  47.7379 -122.233  \n",
              "3            910      1965             0    98136  47.5208 -122.393  \n",
              "4              0      1987             0    98074  47.6168 -122.045  "
            ]
          },
          "execution_count": 130,
          "metadata": {},
          "output_type": "execute_result"
        }
      ],
      "source": [
        "dados.head(5)"
      ]
    },
    {
      "cell_type": "code",
      "execution_count": null,
      "metadata": {
        "colab": {
          "base_uri": "https://localhost:8080/"
        },
        "id": "YbTrmbZdNg-g",
        "outputId": "0d569efe-725f-4b02-d8a3-7e514b826de7"
      },
      "outputs": [
        {
          "data": {
            "text/plain": [
              "540088.1417665294"
            ]
          },
          "execution_count": 131,
          "metadata": {},
          "output_type": "execute_result"
        }
      ],
      "source": [
        "dados['price'].mean()"
      ]
    },
    {
      "cell_type": "code",
      "execution_count": null,
      "metadata": {
        "colab": {
          "base_uri": "https://localhost:8080/",
          "height": 396
        },
        "id": "-2mcL7LUJ212",
        "outputId": "94f8ba5b-b617-4847-cba7-fad93c73bfb7"
      },
      "outputs": [
        {
          "data": {
            "image/png": "[encoded data removed]",
            "text/plain": [
              "<Figure size 1440x432 with 1 Axes>"
            ]
          },
          "metadata": {},
          "output_type": "display_data"
        }
      ],
      "source": [
        "fig, ax = plt.subplots(figsize=(20, 6)) \n",
        "ax.set_title('Preço do Imóvel', fontsize=20)\n",
        "ax = dados['price'].plot()"
      ]
    },
    {
      "cell_type": "code",
      "execution_count": null,
      "metadata": {
        "colab": {
          "base_uri": "https://localhost:8080/",
          "height": 413
        },
        "id": "wJ_cvYnfMDC2",
        "outputId": "a0aee4c8-8197-4720-f471-8324e120a49c"
      },
      "outputs": [
        {
          "data": {
            "text/plain": [
              "<Axes: title={'center': 'Preço do Imóvel'}>"
            ]
          },
          "execution_count": 133,
          "metadata": {},
          "output_type": "execute_result"
        },
        {
          "data": {
            "image/png": "[encoded data removed]",
            "text/plain": [
              "<Figure size 864x432 with 1 Axes>"
            ]
          },
          "metadata": {},
          "output_type": "display_data"
        }
      ],
      "source": [
        "ax = sns.boxplot(data=dados['price'], orient='v', width=0.2)\n",
        "ax.figure.set_size_inches(12, 6)\n",
        "ax.set_title('Preço do Imóvel', fontsize=20)\n",
        "ax"
      ]
    },
    {
      "cell_type": "code",
      "execution_count": null,
      "metadata": {
        "colab": {
          "base_uri": "https://localhost:8080/",
          "height": 427
        },
        "id": "Adt_ite-N5bn",
        "outputId": "471235b5-23a0-41bb-cc34-2442276ca903"
      },
      "outputs": [
        {
          "data": {
            "text/plain": [
              "<Axes: title={'center': 'Distrubuição de Frequências'}, xlabel='price', ylabel='Density'>"
            ]
          },
          "execution_count": 134,
          "metadata": {},
          "output_type": "execute_result"
        },
        {
          "data": {
            "image/png": "[encoded data removed]",
            "text/plain": [
              "<Figure size 864x432 with 1 Axes>"
            ]
          },
          "metadata": {},
          "output_type": "display_data"
        }
      ],
      "source": [
        "ax = sns.distplot(dados['price'])\n",
        "ax.figure.set_size_inches(12, 6)\n",
        "ax.set_title('Distrubuição de Frequências', fontsize=20)\n",
        "ax"
      ]
    },
    {
      "cell_type": "markdown",
      "metadata": {
        "id": "q-SV7zb2SKDT"
      },
      "source": [
        "## 🏡 Boxplots das variáveis dependentes"
      ]
    },
    {
      "cell_type": "code",
      "execution_count": null,
      "metadata": {
        "colab": {
          "base_uri": "https://localhost:8080/"
        },
        "id": "2mkBamS_S7lL",
        "outputId": "758b3078-cb0d-4a24-d48d-bfe46b176a5a"
      },
      "outputs": [
        {
          "data": {
            "text/plain": [
              "Index(['id', 'date', 'price', 'bedrooms', 'bathrooms', 'sqft_living',\n",
              "       'sqft_lot', 'floors', 'waterfront', 'view', 'condition', 'grade',\n",
              "       'sqft_above', 'sqft_basement', 'yr_built', 'yr_renovated', 'zipcode',\n",
              "       'lat', 'long'],\n",
              "      dtype='object')"
            ]
          },
          "execution_count": 135,
          "metadata": {},
          "output_type": "execute_result"
        }
      ],
      "source": [
        "dados.columns"
      ]
    },
    {
      "cell_type": "code",
      "execution_count": null,
      "metadata": {
        "colab": {
          "base_uri": "https://localhost:8080/",
          "height": 432
        },
        "id": "9C4Tb2dzTDdp",
        "outputId": "da50c45e-07a6-4f0e-bcf2-019f8d37abf5"
      },
      "outputs": [
        {
          "data": {
            "text/plain": [
              "<Axes: title={'center': 'Preço do Imóvel De Acordo com a Data'}, xlabel='Datas', ylabel='Preço'>"
            ]
          },
          "execution_count": 136,
          "metadata": {},
          "output_type": "execute_result"
        },
        {
          "data": {
            "image/png": "[encoded data removed]",
            "text/plain": [
              "<Figure size 864x432 with 1 Axes>"
            ]
          },
          "metadata": {},
          "output_type": "display_data"
        }
      ],
      "source": [
        "ax = sns.boxplot(y='price', x='date', data=dados, orient='v', width=0.5)\n",
        "ax.figure.set_size_inches(12, 6)\n",
        "ax.set_title('Preço do Imóvel De Acordo com a Data', fontsize=20)\n",
        "ax.set_ylabel('Preço', fontsize=16)\n",
        "ax.set_xlabel('Datas', fontsize=16)\n",
        "ax"
      ]
    },
    {
      "cell_type": "code",
      "execution_count": null,
      "metadata": {
        "colab": {
          "base_uri": "https://localhost:8080/",
          "height": 432
        },
        "id": "6KmUW46mMO9f",
        "outputId": "841936b8-648e-4572-9d76-d2e0bb435f4a"
      },
      "outputs": [
        {
          "data": {
            "text/plain": [
              "<Axes: title={'center': 'Preço do Imóvel De Acordo com o Número de Quartos'}, xlabel='Número de Quartos', ylabel='Preço'>"
            ]
          },
          "execution_count": 137,
          "metadata": {},
          "output_type": "execute_result"
        },
        {
          "data": {
            "image/png": "[encoded data removed]",
            "text/plain": [
              "<Figure size 864x432 with 1 Axes>"
            ]
          },
          "metadata": {},
          "output_type": "display_data"
        }
      ],
      "source": [
        "ax = sns.boxplot(y='price', x='bedrooms', data=dados, orient='v', width=0.5)\n",
        "ax.figure.set_size_inches(12, 6)\n",
        "ax.set_title('Preço do Imóvel De Acordo com o Número de Quartos', fontsize=20)\n",
        "ax.set_ylabel('Preço', fontsize=16)\n",
        "ax.set_xlabel('Número de Quartos', fontsize=16)\n",
        "ax"
      ]
    },
    {
      "cell_type": "code",
      "execution_count": null,
      "metadata": {
        "colab": {
          "base_uri": "https://localhost:8080/",
          "height": 432
        },
        "id": "gB_RAqjETItE",
        "outputId": "c84f89d9-de6f-4ff6-9bbc-6f9bc4c8d6fb"
      },
      "outputs": [
        {
          "data": {
            "text/plain": [
              "<Axes: title={'center': 'Preço do Imóvel De Acordo com o Num. de Banheiros'}, xlabel='Número de Banheiros', ylabel='Preço'>"
            ]
          },
          "execution_count": 138,
          "metadata": {},
          "output_type": "execute_result"
        },
        {
          "data": {
            "image/png": "[encoded data removed]",
            "text/plain": [
              "<Figure size 864x432 with 1 Axes>"
            ]
          },
          "metadata": {},
          "output_type": "display_data"
        }
      ],
      "source": [
        "ax = sns.boxplot(y='price', x='bathrooms', data=dados, orient='v', width=0.5)\n",
        "ax.figure.set_size_inches(12, 6)\n",
        "ax.set_title('Preço do Imóvel De Acordo com o Num. de Banheiros', fontsize=20)\n",
        "ax.set_ylabel('Preço', fontsize=16)\n",
        "ax.set_xlabel('Número de Banheiros', fontsize=16)\n",
        "ax"
      ]
    },
    {
      "cell_type": "code",
      "execution_count": null,
      "metadata": {
        "colab": {
          "base_uri": "https://localhost:8080/",
          "height": 307
        },
        "id": "MQUMYvqgOXV2",
        "outputId": "694aa3a1-0a90-42a5-8895-87c1edcf494c"
      },
      "outputs": [
        {
          "data": {
            "text/plain": [
              "<Axes: xlabel='waterfront', ylabel='price'>"
            ]
          },
          "execution_count": 139,
          "metadata": {},
          "output_type": "execute_result"
        },
        {
          "data": {
            "image/png": "[encoded data removed]",
            "text/plain": [
              "<Figure size 432x288 with 1 Axes>"
            ]
          },
          "metadata": {},
          "output_type": "display_data"
        }
      ],
      "source": [
        "sns.boxplot(x=\"waterfront\", y=\"price\", data=dados, orient='v')"
      ]
    },
    {
      "cell_type": "code",
      "execution_count": null,
      "metadata": {
        "colab": {
          "base_uri": "https://localhost:8080/",
          "height": 432
        },
        "id": "Jw7Ez29WPmy-",
        "outputId": "b8ab0b01-9493-4289-8b0f-2a4fda4428b3"
      },
      "outputs": [
        {
          "data": {
            "text/plain": [
              "<Axes: title={'center': 'Preço do Imóvel De Acordo com o Número de Andares'}, xlabel='Andares', ylabel='Preço'>"
            ]
          },
          "execution_count": 140,
          "metadata": {},
          "output_type": "execute_result"
        },
        {
          "data": {
            "image/png": "[encoded data removed]",
            "text/plain": [
              "<Figure size 864x432 with 1 Axes>"
            ]
          },
          "metadata": {},
          "output_type": "display_data"
        }
      ],
      "source": [
        "ax = sns.boxplot(y='price', x='floors', data=dados, orient='v', width=0.5)\n",
        "ax.figure.set_size_inches(12, 6)\n",
        "ax.set_title('Preço do Imóvel De Acordo com o Número de Andares', fontsize=20)\n",
        "ax.set_ylabel('Preço', fontsize=16)\n",
        "ax.set_xlabel('Andares', fontsize=16)\n",
        "ax"
      ]
    },
    {
      "cell_type": "markdown",
      "metadata": {
        "id": "AlGLxMWJUbeO"
      },
      "source": [
        "## 🌲Pairplot"
      ]
    },
    {
      "cell_type": "markdown",
      "metadata": {
        "id": "Nyf2KFkWRHXg"
      },
      "source": [
        "* lat              0.3070\n",
        "* bedrooms         0.3083\n",
        "* sqft_basement    0.3238\n",
        "* view             0.3973\n",
        "* bathrooms        0.5251\n",
        "* sqft_above       0.6056\n",
        "* grade            0.6674\n",
        "* sqft_living      0.7020"
      ]
    },
    {
      "cell_type": "code",
      "execution_count": null,
      "metadata": {
        "colab": {
          "base_uri": "https://localhost:8080/"
        },
        "id": "YfHqh7nTU3p_",
        "outputId": "4489beac-1684-4aa0-da27-20022e8d8158"
      },
      "outputs": [
        {
          "data": {
            "text/plain": [
              "<seaborn.axisgrid.PairGrid at 0x7f1b67a8b970>"
            ]
          },
          "execution_count": 141,
          "metadata": {},
          "output_type": "execute_result"
        },
        {
          "data": {
            "image/png": "[encoded data removed]",
            "text/plain": [
              "<Figure size 1440x180 with 8 Axes>"
            ]
          },
          "metadata": {},
          "output_type": "display_data"
        }
      ],
      "source": [
        "ax = sns.pairplot(dados, y_vars='price', x_vars=['lat', 'sqft_basement', 'view', 'bedrooms', 'bathrooms', 'sqft_above', 'grade', 'sqft_living'])\n",
        "ax.fig.suptitle('Dispersão entre as Variáveis', fontsize=20, y=1.05)\n",
        "ax"
      ]
    },
    {
      "cell_type": "markdown",
      "metadata": {
        "id": "v9mdq8lXWsmZ"
      },
      "source": [
        "# ⚓ Modelo de Reguessão Linear"
      ]
    },
    {
      "cell_type": "code",
      "execution_count": null,
      "metadata": {
        "id": "fDwzlFS1Us4a"
      },
      "outputs": [],
      "source": [
        "from sklearn.model_selection import train_test_split\n",
        "from sklearn.linear_model import LinearRegression\n",
        "from sklearn import metrics"
      ]
    },
    {
      "cell_type": "code",
      "execution_count": null,
      "metadata": {
        "id": "CN-HvvFaXi40"
      },
      "outputs": [],
      "source": [
        "model = LinearRegression()"
      ]
    },
    {
      "cell_type": "code",
      "execution_count": null,
      "metadata": {
        "id": "3kH5bPnIWyV6"
      },
      "outputs": [],
      "source": [
        "y = dados['price']"
      ]
    },
    {
      "cell_type": "code",
      "execution_count": null,
      "metadata": {
        "id": "QQgg30GuW3h6"
      },
      "outputs": [],
      "source": [
        "X = dados[['lat', 'sqft_basement', 'view', 'bedrooms', 'bathrooms', 'sqft_above', 'grade', 'sqft_living']]\n"
      ]
    },
    {
      "cell_type": "code",
      "execution_count": null,
      "metadata": {
        "id": "Oy1TdeExXMNa"
      },
      "outputs": [],
      "source": [
        "X_train, X_test, y_train, y_test = train_test_split(X, y, test_size=0.3, random_state=2811)"
      ]
    },
    {
      "cell_type": "code",
      "execution_count": null,
      "metadata": {
        "colab": {
          "base_uri": "https://localhost:8080/"
        },
        "id": "vN1PD5NLX5d9",
        "outputId": "08cb98b8-a10d-4fee-e6b0-474c71d70477"
      },
      "outputs": [
        {
          "data": {
            "text/html": [
              "<style>#sk-container-id-7 {color: black;background-color: white;}#sk-container-id-7 pre{padding: 0;}#sk-container-id-7 div.sk-toggleable {background-color: white;}#sk-container-id-7 label.sk-toggleable__label {cursor: pointer;display: block;width: 100%;margin-bottom: 0;padding: 0.3em;box-sizing: border-box;text-align: center;}#sk-container-id-7 label.sk-toggleable__label-arrow:before {content: \"▸\";float: left;margin-right: 0.25em;color: #696969;}#sk-container-id-7 label.sk-toggleable__label-arrow:hover:before {color: black;}#sk-container-id-7 div.sk-estimator:hover label.sk-toggleable__label-arrow:before {color: black;}#sk-container-id-7 div.sk-toggleable__content {max-height: 0;max-width: 0;overflow: hidden;text-align: left;background-color: #f0f8ff;}#sk-container-id-7 div.sk-toggleable__content pre {margin: 0.2em;color: black;border-radius: 0.25em;background-color: #f0f8ff;}#sk-container-id-7 input.sk-toggleable__control:checked~div.sk-toggleable__content {max-height: 200px;max-width: 100%;overflow: auto;}#sk-container-id-7 input.sk-toggleable__control:checked~label.sk-toggleable__label-arrow:before {content: \"▾\";}#sk-container-id-7 div.sk-estimator input.sk-toggleable__control:checked~label.sk-toggleable__label {background-color: #d4ebff;}#sk-container-id-7 div.sk-label input.sk-toggleable__control:checked~label.sk-toggleable__label {background-color: #d4ebff;}#sk-container-id-7 input.sk-hidden--visually {border: 0;clip: rect(1px 1px 1px 1px);clip: rect(1px, 1px, 1px, 1px);height: 1px;margin: -1px;overflow: hidden;padding: 0;position: absolute;width: 1px;}#sk-container-id-7 div.sk-estimator {font-family: monospace;background-color: #f0f8ff;border: 1px dotted black;border-radius: 0.25em;box-sizing: border-box;margin-bottom: 0.5em;}#sk-container-id-7 div.sk-estimator:hover {background-color: #d4ebff;}#sk-container-id-7 div.sk-parallel-item::after {content: \"\";width: 100%;border-bottom: 1px solid gray;flex-grow: 1;}#sk-container-id-7 div.sk-label:hover label.sk-toggleable__label {background-color: #d4ebff;}#sk-container-id-7 div.sk-serial::before {content: \"\";position: absolute;border-left: 1px solid gray;box-sizing: border-box;top: 0;bottom: 0;left: 50%;z-index: 0;}#sk-container-id-7 div.sk-serial {display: flex;flex-direction: column;align-items: center;background-color: white;padding-right: 0.2em;padding-left: 0.2em;position: relative;}#sk-container-id-7 div.sk-item {position: relative;z-index: 1;}#sk-container-id-7 div.sk-parallel {display: flex;align-items: stretch;justify-content: center;background-color: white;position: relative;}#sk-container-id-7 div.sk-item::before, #sk-container-id-7 div.sk-parallel-item::before {content: \"\";position: absolute;border-left: 1px solid gray;box-sizing: border-box;top: 0;bottom: 0;left: 50%;z-index: -1;}#sk-container-id-7 div.sk-parallel-item {display: flex;flex-direction: column;z-index: 1;position: relative;background-color: white;}#sk-container-id-7 div.sk-parallel-item:first-child::after {align-self: flex-end;width: 50%;}#sk-container-id-7 div.sk-parallel-item:last-child::after {align-self: flex-start;width: 50%;}#sk-container-id-7 div.sk-parallel-item:only-child::after {width: 0;}#sk-container-id-7 div.sk-dashed-wrapped {border: 1px dashed gray;margin: 0 0.4em 0.5em 0.4em;box-sizing: border-box;padding-bottom: 0.4em;background-color: white;}#sk-container-id-7 div.sk-label label {font-family: monospace;font-weight: bold;display: inline-block;line-height: 1.2em;}#sk-container-id-7 div.sk-label-container {text-align: center;}#sk-container-id-7 div.sk-container {/* jupyter's `normalize.less` sets `[hidden] { display: none; }` but bootstrap.min.css set `[hidden] { display: none !important; }` so we also need the `!important` here to be able to override the default hidden behavior on the sphinx rendered scikit-learn.org. See: https://github.com/scikit-learn/scikit-learn/issues/21755 */display: inline-block !important;position: relative;}#sk-container-id-7 div.sk-text-repr-fallback {display: none;}</style><div id=\"sk-container-id-7\" class=\"sk-top-container\"><div class=\"sk-text-repr-fallback\"><pre>LinearRegression()</pre><b>In a Jupyter environment, please rerun this cell to show the HTML representation or trust the notebook. <br />On GitHub, the HTML representation is unable to render, please try loading this page with nbviewer.org.</b></div><div class=\"sk-container\" hidden><div class=\"sk-item\"><div class=\"sk-estimator sk-toggleable\"><input class=\"sk-toggleable__control sk-hidden--visually\" id=\"sk-estimator-id-7\" type=\"checkbox\" checked><label for=\"sk-estimator-id-7\" class=\"sk-toggleable__label sk-toggleable__label-arrow\">LinearRegression</label><div class=\"sk-toggleable__content\"><pre>LinearRegression()</pre></div></div></div></div></div>"
            ],
            "text/plain": [
              "LinearRegression()"
            ]
          },
          "execution_count": 147,
          "metadata": {},
          "output_type": "execute_result"
        }
      ],
      "source": [
        "model.fit(X_train, y_train)"
      ]
    },
    {
      "cell_type": "code",
      "execution_count": null,
      "metadata": {
        "colab": {
          "base_uri": "https://localhost:8080/"
        },
        "id": "ryiyadgOXTAs",
        "outputId": "3914763e-c023-4c8b-fa2f-ae5cb8bbffa6"
      },
      "outputs": [
        {
          "name": "stdout",
          "output_type": "stream",
          "text": [
            "R² = 0.64\n"
          ]
        }
      ],
      "source": [
        "print('R² = {}'.format(model.score(X_train, y_train).round(2)))"
      ]
    },
    {
      "cell_type": "code",
      "execution_count": null,
      "metadata": {
        "id": "1gr9AUzpXTi7"
      },
      "outputs": [],
      "source": [
        "y_previsto = model.predict(X_test)"
      ]
    },
    {
      "cell_type": "code",
      "execution_count": null,
      "metadata": {
        "colab": {
          "base_uri": "https://localhost:8080/"
        },
        "id": "FAOcDxC2YjS_",
        "outputId": "b876b7e2-7669-4df4-b868-e55b92fc9102"
      },
      "outputs": [
        {
          "name": "stdout",
          "output_type": "stream",
          "text": [
            "R² = 0.64\n"
          ]
        }
      ],
      "source": [
        "print('R² = %s' % metrics.r2_score(y_test, y_previsto).round(2))"
      ]
    },
    {
      "cell_type": "markdown",
      "metadata": {
        "id": "mwVgcCB5SVKq"
      },
      "source": [
        "## 🍉 Previsões Pontuais"
      ]
    },
    {
      "cell_type": "code",
      "execution_count": null,
      "metadata": {
        "colab": {
          "base_uri": "https://localhost:8080/"
        },
        "id": "Fb9V2mwFY3aZ",
        "outputId": "93c6f479-28b8-42c4-d87e-74de7457ec62"
      },
      "outputs": [
        {
          "data": {
            "text/html": [
              "\n",
              "  <div id=\"df-9d6e35ce-4944-48ab-8dd0-c1f6c169531a\">\n",
              "    <div class=\"colab-df-container\">\n",
              "      <div>\n",
              "<style scoped>\n",
              "    .dataframe tbody tr th:only-of-type {\n",
              "        vertical-align: middle;\n",
              "    }\n",
              "\n",
              "    .dataframe tbody tr th {\n",
              "        vertical-align: top;\n",
              "    }\n",
              "\n",
              "    .dataframe thead th {\n",
              "        text-align: right;\n",
              "    }\n",
              "</style>\n",
              "<table border=\"1\" class=\"dataframe\">\n",
              "  <thead>\n",
              "    <tr style=\"text-align: right;\">\n",
              "      <th></th>\n",
              "      <th>lat</th>\n",
              "      <th>sqft_basement</th>\n",
              "      <th>view</th>\n",
              "      <th>bedrooms</th>\n",
              "      <th>bathrooms</th>\n",
              "      <th>sqft_above</th>\n",
              "      <th>grade</th>\n",
              "      <th>sqft_living</th>\n",
              "    </tr>\n",
              "  </thead>\n",
              "  <tbody>\n",
              "    <tr>\n",
              "      <th>3490</th>\n",
              "      <td>47.6367</td>\n",
              "      <td>0</td>\n",
              "      <td>0</td>\n",
              "      <td>4</td>\n",
              "      <td>2.75</td>\n",
              "      <td>3160</td>\n",
              "      <td>9</td>\n",
              "      <td>3160</td>\n",
              "    </tr>\n",
              "  </tbody>\n",
              "</table>\n",
              "</div>\n",
              "      <button class=\"colab-df-convert\" onclick=\"convertToInteractive('df-9d6e35ce-4944-48ab-8dd0-c1f6c169531a')\"\n",
              "              title=\"Convert this dataframe to an interactive table.\"\n",
              "              style=\"display:none;\">\n",
              "        \n",
              "  <svg xmlns=\"http://www.w3.org/2000/svg\" height=\"24px\"viewBox=\"0 0 24 24\"\n",
              "       width=\"24px\">\n",
              "    <path d=\"M0 0h24v24H0V0z\" fill=\"none\"/>\n",
              "    <path d=\"M18.56 5.44l.94 2.06.94-2.06 2.06-.94-2.06-.94-.94-2.06-.94 2.06-2.06.94zm-11 1L8.5 8.5l.94-2.06 2.06-.94-2.06-.94L8.5 2.5l-.94 2.06-2.06.94zm10 10l.94 2.06.94-2.06 2.06-.94-2.06-.94-.94-2.06-.94 2.06-2.06.94z\"/><path d=\"M17.41 7.96l-1.37-1.37c-.4-.4-.92-.59-1.43-.59-.52 0-1.04.2-1.43.59L10.3 9.45l-7.72 7.72c-.78.78-.78 2.05 0 2.83L4 21.41c.39.39.9.59 1.41.59.51 0 1.02-.2 1.41-.59l7.78-7.78 2.81-2.81c.8-.78.8-2.07 0-2.86zM5.41 20L4 18.59l7.72-7.72 1.47 1.35L5.41 20z\"/>\n",
              "  </svg>\n",
              "      </button>\n",
              "      \n",
              "  <style>\n",
              "    .colab-df-container {\n",
              "      display:flex;\n",
              "      flex-wrap:wrap;\n",
              "      gap: 12px;\n",
              "    }\n",
              "\n",
              "    .colab-df-convert {\n",
              "      background-color: #E8F0FE;\n",
              "      border: none;\n",
              "      border-radius: 50%;\n",
              "      cursor: pointer;\n",
              "      display: none;\n",
              "      fill: #1967D2;\n",
              "      height: 32px;\n",
              "      padding: 0 0 0 0;\n",
              "      width: 32px;\n",
              "    }\n",
              "\n",
              "    .colab-df-convert:hover {\n",
              "      background-color: #E2EBFA;\n",
              "      box-shadow: 0px 1px 2px rgba(60, 64, 67, 0.3), 0px 1px 3px 1px rgba(60, 64, 67, 0.15);\n",
              "      fill: #174EA6;\n",
              "    }\n",
              "\n",
              "    [theme=dark] .colab-df-convert {\n",
              "      background-color: #3B4455;\n",
              "      fill: #D2E3FC;\n",
              "    }\n",
              "\n",
              "    [theme=dark] .colab-df-convert:hover {\n",
              "      background-color: #434B5C;\n",
              "      box-shadow: 0px 1px 3px 1px rgba(0, 0, 0, 0.15);\n",
              "      filter: drop-shadow(0px 1px 2px rgba(0, 0, 0, 0.3));\n",
              "      fill: #FFFFFF;\n",
              "    }\n",
              "  </style>\n",
              "\n",
              "      <script>\n",
              "        const buttonEl =\n",
              "          document.querySelector('#df-9d6e35ce-4944-48ab-8dd0-c1f6c169531a button.colab-df-convert');\n",
              "        buttonEl.style.display =\n",
              "          google.colab.kernel.accessAllowed ? 'block' : 'none';\n",
              "\n",
              "        async function convertToInteractive(key) {\n",
              "          const element = document.querySelector('#df-9d6e35ce-4944-48ab-8dd0-c1f6c169531a');\n",
              "          const dataTable =\n",
              "            await google.colab.kernel.invokeFunction('convertToInteractive',\n",
              "                                                     [key], {});\n",
              "          if (!dataTable) return;\n",
              "\n",
              "          const docLinkHtml = 'Like what you see? Visit the ' +\n",
              "            '<a target=\"_blank\" href=https://colab.research.google.com/notebooks/data_table.ipynb>data table notebook</a>'\n",
              "            + ' to learn more about interactive tables.';\n",
              "          element.innerHTML = '';\n",
              "          dataTable['output_type'] = 'display_data';\n",
              "          await google.colab.output.renderOutput(dataTable, element);\n",
              "          const docLink = document.createElement('div');\n",
              "          docLink.innerHTML = docLinkHtml;\n",
              "          element.appendChild(docLink);\n",
              "        }\n",
              "      </script>\n",
              "    </div>\n",
              "  </div>\n",
              "  "
            ],
            "text/plain": [
              "          lat  sqft_basement  view  bedrooms  bathrooms  sqft_above  grade  \\\n",
              "3490  47.6367              0     0         4       2.75        3160      9   \n",
              "\n",
              "      sqft_living  \n",
              "3490         3160  "
            ]
          },
          "execution_count": 151,
          "metadata": {},
          "output_type": "execute_result"
        }
      ],
      "source": [
        "entrada = X_test[0:1]\n",
        "entrada"
      ]
    },
    {
      "cell_type": "code",
      "execution_count": null,
      "metadata": {
        "colab": {
          "base_uri": "https://localhost:8080/"
        },
        "id": "DH-b0r3VSd0s",
        "outputId": "189c9980-4739-450f-c88c-a4068dea451c"
      },
      "outputs": [
        {
          "data": {
            "text/plain": [
              "860225.8026697449"
            ]
          },
          "execution_count": 152,
          "metadata": {},
          "output_type": "execute_result"
        }
      ],
      "source": [
        "model.predict(entrada)[0]"
      ]
    },
    {
      "cell_type": "markdown",
      "metadata": {
        "id": "tQnGhUCzTJeZ"
      },
      "source": [
        "Um exemplo aleatório, para testar nosso modelo:"
      ]
    },
    {
      "cell_type": "code",
      "execution_count": null,
      "metadata": {
        "colab": {
          "base_uri": "https://localhost:8080/"
        },
        "id": "AxQuKWeQSj2y",
        "outputId": "611da4d8-5a0b-49c7-9104-f9408ca1e2b4"
      },
      "outputs": [
        {
          "name": "stdout",
          "output_type": "stream",
          "text": [
            "36895232.41 price\n"
          ]
        }
      ],
      "source": [
        "lat=100.000\t\n",
        "sqft_basement=1\n",
        "view=1\t\n",
        "bedrooms=10\n",
        "bathrooms=3.0\n",
        "sqft_above=10000\n",
        "grade=4\n",
        "sqft_living=12000\n",
        "entrada=[[lat, sqft_basement, view, bedrooms, bathrooms, sqft_above, grade, sqft_living]]\n",
        "\n",
        "print('{0:.2f} price'.format(model.predict(entrada)[0]))"
      ]
    },
    {
      "cell_type": "markdown",
      "metadata": {
        "id": "pHyzM7omUDf-"
      },
      "source": [
        "## 🍓 Análise Gráfica Para Previsões"
      ]
    },
    {
      "cell_type": "code",
      "execution_count": null,
      "metadata": {
        "id": "CfiSu9eCUAuy"
      },
      "outputs": [],
      "source": [
        "y_previsto_train = model.predict(X_train)"
      ]
    },
    {
      "cell_type": "code",
      "execution_count": null,
      "metadata": {
        "colab": {
          "base_uri": "https://localhost:8080/"
        },
        "id": "c56Ol4PHURJ4",
        "outputId": "30b1cb2b-67f3-4bee-8681-163ee36aac50"
      },
      "outputs": [
        {
          "data": {
            "text/plain": [
              "<Axes: title={'center': 'Previsão X Real'}, xlabel='Price - Previsão', ylabel='Price - Real'>"
            ]
          },
          "execution_count": 155,
          "metadata": {},
          "output_type": "execute_result"
        },
        {
          "data": {
            "image/png": "[encoded data removed]",
            "text/plain": [
              "<Figure size 864x432 with 1 Axes>"
            ]
          },
          "metadata": {},
          "output_type": "display_data"
        }
      ],
      "source": [
        "ax = sns.scatterplot(x=y_previsto_train, y=y_train)\n",
        "ax.figure.set_size_inches(12, 6)\n",
        "ax.set_title('Previsão X Real', fontsize=18)\n",
        "ax.set_xlabel('Price - Previsão', fontsize=14)\n",
        "ax.set_ylabel('Price - Real', fontsize=14)\n",
        "ax"
      ]
    },
    {
      "cell_type": "code",
      "execution_count": null,
      "metadata": {
        "id": "KPofkND5Uc-n"
      },
      "outputs": [],
      "source": [
        "residuo = y_train - y_previsto_train"
      ]
    },
    {
      "cell_type": "code",
      "execution_count": null,
      "metadata": {
        "colab": {
          "base_uri": "https://localhost:8080/"
        },
        "id": "EDuvanqfUneK",
        "outputId": "c62d0f27-7f8a-421b-d84b-4a0925c480e2"
      },
      "outputs": [
        {
          "data": {
            "text/plain": [
              "<Axes: title={'center': 'Resíduos X Previsão'}, xlabel='Price - Previsão', ylabel='Resíduos'>"
            ]
          },
          "execution_count": 157,
          "metadata": {},
          "output_type": "execute_result"
        },
        {
          "data": {
            "image/png": "[encoded data removed]",
            "text/plain": [
              "<Figure size 864x576 with 1 Axes>"
            ]
          },
          "metadata": {},
          "output_type": "display_data"
        }
      ],
      "source": [
        "ax = sns.scatterplot(x=y_previsto_train, y=residuo, s=150)\n",
        "ax.figure.set_size_inches(12, 8)\n",
        "ax.set_title('Resíduos X Previsão', fontsize=18)\n",
        "ax.set_xlabel('Price - Previsão', fontsize=14)\n",
        "ax.set_ylabel('Resíduos', fontsize=14)\n",
        "ax"
      ]
    },
    {
      "cell_type": "code",
      "execution_count": null,
      "metadata": {
        "colab": {
          "base_uri": "https://localhost:8080/"
        },
        "id": "q_G6Ag7SUzYz",
        "outputId": "03eae317-63cd-4401-d9bb-705bed2e7d93"
      },
      "outputs": [
        {
          "data": {
            "text/plain": [
              "<Axes: title={'center': 'Resíduos X Previsão'}, xlabel='Price - Previsão', ylabel='Resíduos²'>"
            ]
          },
          "execution_count": 158,
          "metadata": {},
          "output_type": "execute_result"
        },
        {
          "data": {
            "image/png": "[encoded data removed]",
            "text/plain": [
              "<Figure size 864x576 with 1 Axes>"
            ]
          },
          "metadata": {},
          "output_type": "display_data"
        }
      ],
      "source": [
        "ax = sns.scatterplot(x=y_previsto_train, y=residuo**2, s=150)\n",
        "ax.figure.set_size_inches(12, 8)\n",
        "ax.set_title('Resíduos X Previsão', fontsize=18)\n",
        "ax.set_xlabel('Price - Previsão', fontsize=14)\n",
        "ax.set_ylabel('Resíduos²', fontsize=14)\n",
        "ax"
      ]
    },
    {
      "cell_type": "code",
      "execution_count": null,
      "metadata": {
        "colab": {
          "base_uri": "https://localhost:8080/"
        },
        "id": "cjF7M-SOVB4l",
        "outputId": "1d3b9ca4-b4d8-44ea-8055-2db2c6ecc072"
      },
      "outputs": [
        {
          "data": {
            "text/plain": [
              "<Axes: title={'center': 'Distribuição de Frequências dos Resíduos'}, xlabel='Moeda (Price)', ylabel='Density'>"
            ]
          },
          "execution_count": 159,
          "metadata": {},
          "output_type": "execute_result"
        },
        {
          "data": {
            "image/png": "[encoded data removed]",
            "text/plain": [
              "<Figure size 864x432 with 1 Axes>"
            ]
          },
          "metadata": {},
          "output_type": "display_data"
        }
      ],
      "source": [
        "ax = sns.distplot(residuo)\n",
        "ax.figure.set_size_inches(12, 6)\n",
        "ax.set_title('Distribuição de Frequências dos Resíduos', fontsize=18)\n",
        "ax.set_xlabel('Moeda (Price)', fontsize=14)\n",
        "ax"
      ]
    },
    {
      "cell_type": "markdown",
      "metadata": {
        "id": "yXWDOfvEVtTG"
      },
      "source": [
        "# 📪 Salvando e carregando o modelo estimado"
      ]
    },
    {
      "cell_type": "code",
      "execution_count": null,
      "metadata": {
        "id": "4Qpl4LxiWXSg"
      },
      "outputs": [],
      "source": [
        "import pickle"
      ]
    },
    {
      "cell_type": "code",
      "execution_count": null,
      "metadata": {
        "id": "2pAetnz1VP0N"
      },
      "outputs": [],
      "source": [
        "output = open('modelo_preco_imoveis', 'wb')\n",
        "pickle.dump(model, output)\n",
        "output.close()"
      ]
    },
    {
      "cell_type": "markdown",
      "metadata": {
        "id": "mu9cMqRkXN3_"
      },
      "source": [
        "Em um outro notebook:"
      ]
    },
    {
      "cell_type": "code",
      "execution_count": null,
      "metadata": {
        "id": "8-ZTgbrWXQsM"
      },
      "outputs": [],
      "source": [
        "modelo = open('modelo_preco_imoveis','rb')\n",
        "preco_imoveis = pickle.load(modelo)\n",
        "modelo.close()"
      ]
    },
    {
      "cell_type": "code",
      "execution_count": null,
      "metadata": {
        "colab": {
          "base_uri": "https://localhost:8080/"
        },
        "id": "jVCccwkkWkce",
        "outputId": "68682924-cf95-4c8b-938c-ad83b18e7641"
      },
      "outputs": [
        {
          "name": "stdout",
          "output_type": "stream",
          "text": [
            "36895232.41 price\n"
          ]
        }
      ],
      "source": [
        "lat=100.000\t\n",
        "sqft_basement=1\n",
        "view=1\t\n",
        "bedrooms=10\n",
        "bathrooms=3.0\n",
        "sqft_above=10000\n",
        "grade=4\n",
        "sqft_living=12000\n",
        "entrada=[[lat, sqft_basement, view, bedrooms, bathrooms, sqft_above, grade, sqft_living]]\n",
        "\n",
        "print('{0:.2f} price'.format(preco_imoveis.predict(entrada)[0]))"
      ]
    },
    {
      "cell_type": "markdown",
      "metadata": {
        "id": "yPFUGxztX0-y"
      },
      "source": [
        "## 📲 Simulador Interativo"
      ]
    },
    {
      "cell_type": "code",
      "execution_count": null,
      "metadata": {
        "id": "MT3JDR_DXhn4"
      },
      "outputs": [],
      "source": [
        "# Importando bibliotecas\n",
        "from ipywidgets import widgets, HBox, VBox\n",
        "from IPython.display import display\n",
        "\n",
        "# Criando os controles do formulário\n",
        "lat = widgets.Text(description=\"Lat:\")\n",
        "sqft_basement = widgets.Text(description=\"sqft_basement:\")\n",
        "view = widgets.Text(description=\"view:\")\n",
        "bedrooms = widgets.Text(description=\"bedrooms:\")\n",
        "bathrooms = widgets.Text(description=\"bathrooms:\")\n",
        "sqft_above = widgets.Text(description=\"sqft_above:\")\n",
        "grade = widgets.Text(description=\"grade:\")\n",
        "sqft_living = widgets.Text(description=\"sqft_living:\")\n",
        "\n",
        "botao = widgets.Button(description=\"Simular\")\n",
        "\n",
        "# Posicionando os controles\n",
        "left = VBox([lat, view, grade, bedrooms, bathrooms])\n",
        "right = VBox([sqft_basement, sqft_above, sqft_living])\n",
        "inputs = HBox([left, right])\n",
        "\n",
        "# Função de simulação\n",
        "def simulador(sender):\n",
        "    entrada=[[\n",
        "                float(lat.value if lat.value else 0), \n",
        "                float(view.value if view.value else 0), \n",
        "                float(bathrooms.value if bathrooms.value else 0), \n",
        "                float(bedrooms.value if bedrooms.value else 0), \n",
        "                float(grade.value if grade.value else 0), \n",
        "                float(sqft_living.value if sqft_living.value else 0),\n",
        "                float(sqft_above.value if sqft_above.value else 0),\n",
        "                float(sqft_basement.value if sqft_basement.value else 0)\n",
        "             ]]\n",
        "    print('$ {0:.2f}'.format(preco_imoveis.predict(entrada)[0]))\n",
        "\n",
        "# Atribuindo a função \"simulador\" ao evento click do botão\n",
        "botao.on_click(simulador) "
      ]
    },
    {
      "cell_type": "code",
      "execution_count": null,
      "metadata": {
        "colab": {
          "base_uri": "https://localhost:8080/",
          "height": 210,
          "referenced_widgets": [
            "fd083ba5d3064e35b720f7af1138c7d9",
            "8db17e7b43c64d9894f2a4005389897b",
            "d7595bc54d4244a0b36e18cc5462ed98",
            "219b3e1c16fe43a8925fcd16429b4d30",
            "b9f38584a3f3467d8b014207828c6060",
            "46f95235d4ab4051b80039981ca617a4",
            "42be716f60c040e9867ca5616a187a9e",
            "6a4febc0ab5d40a5a15c8581959acf7b",
            "872c4a13f0444c8eb17bbbb436190d6f",
            "7ee70fa5f41841319c7161812950e736",
            "dc483b7fe5a042f2bd07a459357e0f0f",
            "65e33f333c284cc49d8705f7e9aa4338",
            "5fca74ed4f2140e1ac2c60cf011da6ca",
            "1bcd7a71e69047b3b059f48cbbd5d903",
            "4acf8b1d35dc458c8b2382dfa3948e7a",
            "bc8a7ffc94f74919b2d2b7bb204b7c75",
            "4f4191d67e714ee79d7ba97ee9459f1c",
            "08b7160912ff45028dac8e99ecf8fe35",
            "610a9e951ba041e6a630617cb25b8fe4",
            "7815588b170b432c85ecea526bddbf3a",
            "cf58d34895054d028ed6a28535e614cb",
            "0123ec3bde2d45da83baa3bc7b587ea0",
            "076b180928fd43b68dfe1ea5c6b6cd6f",
            "9f985e4e39de469f854e491b922bc161",
            "4d3027cabb124f2696b4ce653a85134d",
            "8794133bc7c94dafb2597e4a2aa809de",
            "978988e72f644fe786a22e39858a1ade",
            "c7a532b8684041e9b68e6a0e01b34866",
            "0f5695905f344a80809b96d89597f162",
            "c0025fefb77846e78866b14e9cab8c0a",
            "1fd53469ec874f9eb082b228fc2cb3c8",
            "50e928a8d648423897b0b325eb07b4ea",
            "20dbe2d91dc347029d4c57bc9eb4b45d"
          ]
        },
        "id": "nNfsH-hmZjll",
        "outputId": "2ef9615c-4699-4270-c62f-b46b93b63c85"
      },
      "outputs": [
        {
          "data": {
            "application/vnd.jupyter.widget-view+json": {
              "model_id": "fd083ba5d3064e35b720f7af1138c7d9",
              "version_major": 2,
              "version_minor": 0
            },
            "text/plain": [
              "HBox(children=(VBox(children=(Text(value='', description='Lat:'), Text(value='', description='view:'), Text(va…"
            ]
          },
          "metadata": {},
          "output_type": "display_data"
        },
        {
          "data": {
            "application/vnd.jupyter.widget-view+json": {
              "model_id": "1fd53469ec874f9eb082b228fc2cb3c8",
              "version_major": 2,
              "version_minor": 0
            },
            "text/plain": [
              "Button(description='Simular', style=ButtonStyle())"
            ]
          },
          "metadata": {},
          "output_type": "display_data"
        }
      ],
      "source": [
        "display(inputs, botao)"
      ]
    },
    {
      "cell_type": "code",
      "execution_count": null,
      "metadata": {
        "id": "kdymzVYXZurQ"
      },
      "outputs": [],
      "source": []
    }
  ],
  "metadata": {
    "colab": {
      "provenance": []
    },
    "kernelspec": {
      "display_name": "Python 3",
      "name": "python3"
    },
    "language_info": {
      "name": "python"
    },
    "widgets": {
      "application/vnd.jupyter.widget-state+json": {
        "0123ec3bde2d45da83baa3bc7b587ea0": {
          "model_module": "@jupyter-widgets/controls",
          "model_module_version": "1.5.0",
          "model_name": "DescriptionStyleModel",
          "state": {
            "_model_module": "@jupyter-widgets/controls",
            "_model_module_version": "1.5.0",
            "_model_name": "DescriptionStyleModel",
            "_view_count": null,
            "_view_module": "@jupyter-widgets/base",
            "_view_module_version": "1.2.0",
            "_view_name": "StyleView",
            "description_width": ""
          }
        },
        "076b180928fd43b68dfe1ea5c6b6cd6f": {
          "model_module": "@jupyter-widgets/base",
          "model_module_version": "1.2.0",
          "model_name": "LayoutModel",
          "state": {
            "_model_module": "@jupyter-widgets/base",
            "_model_module_version": "1.2.0",
            "_model_name": "LayoutModel",
            "_view_count": null,
            "_view_module": "@jupyter-widgets/base",
            "_view_module_version": "1.2.0",
            "_view_name": "LayoutView",
            "align_content": null,
            "align_items": null,
            "align_self": null,
            "border": null,
            "bottom": null,
            "display": null,
            "flex": null,
            "flex_flow": null,
            "grid_area": null,
            "grid_auto_columns": null,
            "grid_auto_flow": null,
            "grid_auto_rows": null,
            "grid_column": null,
            "grid_gap": null,
            "grid_row": null,
            "grid_template_areas": null,
            "grid_template_columns": null,
            "grid_template_rows": null,
            "height": null,
            "justify_content": null,
            "justify_items": null,
            "left": null,
            "margin": null,
            "max_height": null,
            "max_width": null,
            "min_height": null,
            "min_width": null,
            "object_fit": null,
            "object_position": null,
            "order": null,
            "overflow": null,
            "overflow_x": null,
            "overflow_y": null,
            "padding": null,
            "right": null,
            "top": null,
            "visibility": null,
            "width": null
          }
        },
        "08b7160912ff45028dac8e99ecf8fe35": {
          "model_module": "@jupyter-widgets/controls",
          "model_module_version": "1.5.0",
          "model_name": "DescriptionStyleModel",
          "state": {
            "_model_module": "@jupyter-widgets/controls",
            "_model_module_version": "1.5.0",
            "_model_name": "DescriptionStyleModel",
            "_view_count": null,
            "_view_module": "@jupyter-widgets/base",
            "_view_module_version": "1.2.0",
            "_view_name": "StyleView",
            "description_width": ""
          }
        },
        "0f5695905f344a80809b96d89597f162": {
          "model_module": "@jupyter-widgets/base",
          "model_module_version": "1.2.0",
          "model_name": "LayoutModel",
          "state": {
            "_model_module": "@jupyter-widgets/base",
            "_model_module_version": "1.2.0",
            "_model_name": "LayoutModel",
            "_view_count": null,
            "_view_module": "@jupyter-widgets/base",
            "_view_module_version": "1.2.0",
            "_view_name": "LayoutView",
            "align_content": null,
            "align_items": null,
            "align_self": null,
            "border": null,
            "bottom": null,
            "display": null,
            "flex": null,
            "flex_flow": null,
            "grid_area": null,
            "grid_auto_columns": null,
            "grid_auto_flow": null,
            "grid_auto_rows": null,
            "grid_column": null,
            "grid_gap": null,
            "grid_row": null,
            "grid_template_areas": null,
            "grid_template_columns": null,
            "grid_template_rows": null,
            "height": null,
            "justify_content": null,
            "justify_items": null,
            "left": null,
            "margin": null,
            "max_height": null,
            "max_width": null,
            "min_height": null,
            "min_width": null,
            "object_fit": null,
            "object_position": null,
            "order": null,
            "overflow": null,
            "overflow_x": null,
            "overflow_y": null,
            "padding": null,
            "right": null,
            "top": null,
            "visibility": null,
            "width": null
          }
        },
        "1bcd7a71e69047b3b059f48cbbd5d903": {
          "model_module": "@jupyter-widgets/base",
          "model_module_version": "1.2.0",
          "model_name": "LayoutModel",
          "state": {
            "_model_module": "@jupyter-widgets/base",
            "_model_module_version": "1.2.0",
            "_model_name": "LayoutModel",
            "_view_count": null,
            "_view_module": "@jupyter-widgets/base",
            "_view_module_version": "1.2.0",
            "_view_name": "LayoutView",
            "align_content": null,
            "align_items": null,
            "align_self": null,
            "border": null,
            "bottom": null,
            "display": null,
            "flex": null,
            "flex_flow": null,
            "grid_area": null,
            "grid_auto_columns": null,
            "grid_auto_flow": null,
            "grid_auto_rows": null,
            "grid_column": null,
            "grid_gap": null,
            "grid_row": null,
            "grid_template_areas": null,
            "grid_template_columns": null,
            "grid_template_rows": null,
            "height": null,
            "justify_content": null,
            "justify_items": null,
            "left": null,
            "margin": null,
            "max_height": null,
            "max_width": null,
            "min_height": null,
            "min_width": null,
            "object_fit": null,
            "object_position": null,
            "order": null,
            "overflow": null,
            "overflow_x": null,
            "overflow_y": null,
            "padding": null,
            "right": null,
            "top": null,
            "visibility": null,
            "width": null
          }
        },
        "1fd53469ec874f9eb082b228fc2cb3c8": {
          "model_module": "@jupyter-widgets/controls",
          "model_module_version": "1.5.0",
          "model_name": "ButtonModel",
          "state": {
            "_dom_classes": [],
            "_model_module": "@jupyter-widgets/controls",
            "_model_module_version": "1.5.0",
            "_model_name": "ButtonModel",
            "_view_count": null,
            "_view_module": "@jupyter-widgets/controls",
            "_view_module_version": "1.5.0",
            "_view_name": "ButtonView",
            "button_style": "",
            "description": "Simular",
            "disabled": false,
            "icon": "",
            "layout": "IPY_MODEL_50e928a8d648423897b0b325eb07b4ea",
            "style": "IPY_MODEL_20dbe2d91dc347029d4c57bc9eb4b45d",
            "tooltip": ""
          }
        },
        "20dbe2d91dc347029d4c57bc9eb4b45d": {
          "model_module": "@jupyter-widgets/controls",
          "model_module_version": "1.5.0",
          "model_name": "ButtonStyleModel",
          "state": {
            "_model_module": "@jupyter-widgets/controls",
            "_model_module_version": "1.5.0",
            "_model_name": "ButtonStyleModel",
            "_view_count": null,
            "_view_module": "@jupyter-widgets/base",
            "_view_module_version": "1.2.0",
            "_view_name": "StyleView",
            "button_color": null,
            "font_weight": ""
          }
        },
        "219b3e1c16fe43a8925fcd16429b4d30": {
          "model_module": "@jupyter-widgets/base",
          "model_module_version": "1.2.0",
          "model_name": "LayoutModel",
          "state": {
            "_model_module": "@jupyter-widgets/base",
            "_model_module_version": "1.2.0",
            "_model_name": "LayoutModel",
            "_view_count": null,
            "_view_module": "@jupyter-widgets/base",
            "_view_module_version": "1.2.0",
            "_view_name": "LayoutView",
            "align_content": null,
            "align_items": null,
            "align_self": null,
            "border": null,
            "bottom": null,
            "display": null,
            "flex": null,
            "flex_flow": null,
            "grid_area": null,
            "grid_auto_columns": null,
            "grid_auto_flow": null,
            "grid_auto_rows": null,
            "grid_column": null,
            "grid_gap": null,
            "grid_row": null,
            "grid_template_areas": null,
            "grid_template_columns": null,
            "grid_template_rows": null,
            "height": null,
            "justify_content": null,
            "justify_items": null,
            "left": null,
            "margin": null,
            "max_height": null,
            "max_width": null,
            "min_height": null,
            "min_width": null,
            "object_fit": null,
            "object_position": null,
            "order": null,
            "overflow": null,
            "overflow_x": null,
            "overflow_y": null,
            "padding": null,
            "right": null,
            "top": null,
            "visibility": null,
            "width": null
          }
        },
        "42be716f60c040e9867ca5616a187a9e": {
          "model_module": "@jupyter-widgets/controls",
          "model_module_version": "1.5.0",
          "model_name": "TextModel",
          "state": {
            "_dom_classes": [],
            "_model_module": "@jupyter-widgets/controls",
            "_model_module_version": "1.5.0",
            "_model_name": "TextModel",
            "_view_count": null,
            "_view_module": "@jupyter-widgets/controls",
            "_view_module_version": "1.5.0",
            "_view_name": "TextView",
            "continuous_update": true,
            "description": "grade:",
            "description_tooltip": null,
            "disabled": false,
            "layout": "IPY_MODEL_610a9e951ba041e6a630617cb25b8fe4",
            "placeholder": "​",
            "style": "IPY_MODEL_7815588b170b432c85ecea526bddbf3a",
            "value": ""
          }
        },
        "46f95235d4ab4051b80039981ca617a4": {
          "model_module": "@jupyter-widgets/controls",
          "model_module_version": "1.5.0",
          "model_name": "TextModel",
          "state": {
            "_dom_classes": [],
            "_model_module": "@jupyter-widgets/controls",
            "_model_module_version": "1.5.0",
            "_model_name": "TextModel",
            "_view_count": null,
            "_view_module": "@jupyter-widgets/controls",
            "_view_module_version": "1.5.0",
            "_view_name": "TextView",
            "continuous_update": true,
            "description": "view:",
            "description_tooltip": null,
            "disabled": false,
            "layout": "IPY_MODEL_4f4191d67e714ee79d7ba97ee9459f1c",
            "placeholder": "​",
            "style": "IPY_MODEL_08b7160912ff45028dac8e99ecf8fe35",
            "value": ""
          }
        },
        "4acf8b1d35dc458c8b2382dfa3948e7a": {
          "model_module": "@jupyter-widgets/base",
          "model_module_version": "1.2.0",
          "model_name": "LayoutModel",
          "state": {
            "_model_module": "@jupyter-widgets/base",
            "_model_module_version": "1.2.0",
            "_model_name": "LayoutModel",
            "_view_count": null,
            "_view_module": "@jupyter-widgets/base",
            "_view_module_version": "1.2.0",
            "_view_name": "LayoutView",
            "align_content": null,
            "align_items": null,
            "align_self": null,
            "border": null,
            "bottom": null,
            "display": null,
            "flex": null,
            "flex_flow": null,
            "grid_area": null,
            "grid_auto_columns": null,
            "grid_auto_flow": null,
            "grid_auto_rows": null,
            "grid_column": null,
            "grid_gap": null,
            "grid_row": null,
            "grid_template_areas": null,
            "grid_template_columns": null,
            "grid_template_rows": null,
            "height": null,
            "justify_content": null,
            "justify_items": null,
            "left": null,
            "margin": null,
            "max_height": null,
            "max_width": null,
            "min_height": null,
            "min_width": null,
            "object_fit": null,
            "object_position": null,
            "order": null,
            "overflow": null,
            "overflow_x": null,
            "overflow_y": null,
            "padding": null,
            "right": null,
            "top": null,
            "visibility": null,
            "width": null
          }
        },
        "4d3027cabb124f2696b4ce653a85134d": {
          "model_module": "@jupyter-widgets/base",
          "model_module_version": "1.2.0",
          "model_name": "LayoutModel",
          "state": {
            "_model_module": "@jupyter-widgets/base",
            "_model_module_version": "1.2.0",
            "_model_name": "LayoutModel",
            "_view_count": null,
            "_view_module": "@jupyter-widgets/base",
            "_view_module_version": "1.2.0",
            "_view_name": "LayoutView",
            "align_content": null,
            "align_items": null,
            "align_self": null,
            "border": null,
            "bottom": null,
            "display": null,
            "flex": null,
            "flex_flow": null,
            "grid_area": null,
            "grid_auto_columns": null,
            "grid_auto_flow": null,
            "grid_auto_rows": null,
            "grid_column": null,
            "grid_gap": null,
            "grid_row": null,
            "grid_template_areas": null,
            "grid_template_columns": null,
            "grid_template_rows": null,
            "height": null,
            "justify_content": null,
            "justify_items": null,
            "left": null,
            "margin": null,
            "max_height": null,
            "max_width": null,
            "min_height": null,
            "min_width": null,
            "object_fit": null,
            "object_position": null,
            "order": null,
            "overflow": null,
            "overflow_x": null,
            "overflow_y": null,
            "padding": null,
            "right": null,
            "top": null,
            "visibility": null,
            "width": null
          }
        },
        "4f4191d67e714ee79d7ba97ee9459f1c": {
          "model_module": "@jupyter-widgets/base",
          "model_module_version": "1.2.0",
          "model_name": "LayoutModel",
          "state": {
            "_model_module": "@jupyter-widgets/base",
            "_model_module_version": "1.2.0",
            "_model_name": "LayoutModel",
            "_view_count": null,
            "_view_module": "@jupyter-widgets/base",
            "_view_module_version": "1.2.0",
            "_view_name": "LayoutView",
            "align_content": null,
            "align_items": null,
            "align_self": null,
            "border": null,
            "bottom": null,
            "display": null,
            "flex": null,
            "flex_flow": null,
            "grid_area": null,
            "grid_auto_columns": null,
            "grid_auto_flow": null,
            "grid_auto_rows": null,
            "grid_column": null,
            "grid_gap": null,
            "grid_row": null,
            "grid_template_areas": null,
            "grid_template_columns": null,
            "grid_template_rows": null,
            "height": null,
            "justify_content": null,
            "justify_items": null,
            "left": null,
            "margin": null,
            "max_height": null,
            "max_width": null,
            "min_height": null,
            "min_width": null,
            "object_fit": null,
            "object_position": null,
            "order": null,
            "overflow": null,
            "overflow_x": null,
            "overflow_y": null,
            "padding": null,
            "right": null,
            "top": null,
            "visibility": null,
            "width": null
          }
        },
        "50e928a8d648423897b0b325eb07b4ea": {
          "model_module": "@jupyter-widgets/base",
          "model_module_version": "1.2.0",
          "model_name": "LayoutModel",
          "state": {
            "_model_module": "@jupyter-widgets/base",
            "_model_module_version": "1.2.0",
            "_model_name": "LayoutModel",
            "_view_count": null,
            "_view_module": "@jupyter-widgets/base",
            "_view_module_version": "1.2.0",
            "_view_name": "LayoutView",
            "align_content": null,
            "align_items": null,
            "align_self": null,
            "border": null,
            "bottom": null,
            "display": null,
            "flex": null,
            "flex_flow": null,
            "grid_area": null,
            "grid_auto_columns": null,
            "grid_auto_flow": null,
            "grid_auto_rows": null,
            "grid_column": null,
            "grid_gap": null,
            "grid_row": null,
            "grid_template_areas": null,
            "grid_template_columns": null,
            "grid_template_rows": null,
            "height": null,
            "justify_content": null,
            "justify_items": null,
            "left": null,
            "margin": null,
            "max_height": null,
            "max_width": null,
            "min_height": null,
            "min_width": null,
            "object_fit": null,
            "object_position": null,
            "order": null,
            "overflow": null,
            "overflow_x": null,
            "overflow_y": null,
            "padding": null,
            "right": null,
            "top": null,
            "visibility": null,
            "width": null
          }
        },
        "5fca74ed4f2140e1ac2c60cf011da6ca": {
          "model_module": "@jupyter-widgets/controls",
          "model_module_version": "1.5.0",
          "model_name": "TextModel",
          "state": {
            "_dom_classes": [],
            "_model_module": "@jupyter-widgets/controls",
            "_model_module_version": "1.5.0",
            "_model_name": "TextModel",
            "_view_count": null,
            "_view_module": "@jupyter-widgets/controls",
            "_view_module_version": "1.5.0",
            "_view_name": "TextView",
            "continuous_update": true,
            "description": "sqft_living:",
            "description_tooltip": null,
            "disabled": false,
            "layout": "IPY_MODEL_0f5695905f344a80809b96d89597f162",
            "placeholder": "​",
            "style": "IPY_MODEL_c0025fefb77846e78866b14e9cab8c0a",
            "value": ""
          }
        },
        "610a9e951ba041e6a630617cb25b8fe4": {
          "model_module": "@jupyter-widgets/base",
          "model_module_version": "1.2.0",
          "model_name": "LayoutModel",
          "state": {
            "_model_module": "@jupyter-widgets/base",
            "_model_module_version": "1.2.0",
            "_model_name": "LayoutModel",
            "_view_count": null,
            "_view_module": "@jupyter-widgets/base",
            "_view_module_version": "1.2.0",
            "_view_name": "LayoutView",
            "align_content": null,
            "align_items": null,
            "align_self": null,
            "border": null,
            "bottom": null,
            "display": null,
            "flex": null,
            "flex_flow": null,
            "grid_area": null,
            "grid_auto_columns": null,
            "grid_auto_flow": null,
            "grid_auto_rows": null,
            "grid_column": null,
            "grid_gap": null,
            "grid_row": null,
            "grid_template_areas": null,
            "grid_template_columns": null,
            "grid_template_rows": null,
            "height": null,
            "justify_content": null,
            "justify_items": null,
            "left": null,
            "margin": null,
            "max_height": null,
            "max_width": null,
            "min_height": null,
            "min_width": null,
            "object_fit": null,
            "object_position": null,
            "order": null,
            "overflow": null,
            "overflow_x": null,
            "overflow_y": null,
            "padding": null,
            "right": null,
            "top": null,
            "visibility": null,
            "width": null
          }
        },
        "65e33f333c284cc49d8705f7e9aa4338": {
          "model_module": "@jupyter-widgets/controls",
          "model_module_version": "1.5.0",
          "model_name": "TextModel",
          "state": {
            "_dom_classes": [],
            "_model_module": "@jupyter-widgets/controls",
            "_model_module_version": "1.5.0",
            "_model_name": "TextModel",
            "_view_count": null,
            "_view_module": "@jupyter-widgets/controls",
            "_view_module_version": "1.5.0",
            "_view_name": "TextView",
            "continuous_update": true,
            "description": "sqft_above:",
            "description_tooltip": null,
            "disabled": false,
            "layout": "IPY_MODEL_978988e72f644fe786a22e39858a1ade",
            "placeholder": "​",
            "style": "IPY_MODEL_c7a532b8684041e9b68e6a0e01b34866",
            "value": ""
          }
        },
        "6a4febc0ab5d40a5a15c8581959acf7b": {
          "model_module": "@jupyter-widgets/controls",
          "model_module_version": "1.5.0",
          "model_name": "TextModel",
          "state": {
            "_dom_classes": [],
            "_model_module": "@jupyter-widgets/controls",
            "_model_module_version": "1.5.0",
            "_model_name": "TextModel",
            "_view_count": null,
            "_view_module": "@jupyter-widgets/controls",
            "_view_module_version": "1.5.0",
            "_view_name": "TextView",
            "continuous_update": true,
            "description": "bedrooms:",
            "description_tooltip": null,
            "disabled": false,
            "layout": "IPY_MODEL_cf58d34895054d028ed6a28535e614cb",
            "placeholder": "​",
            "style": "IPY_MODEL_0123ec3bde2d45da83baa3bc7b587ea0",
            "value": ""
          }
        },
        "7815588b170b432c85ecea526bddbf3a": {
          "model_module": "@jupyter-widgets/controls",
          "model_module_version": "1.5.0",
          "model_name": "DescriptionStyleModel",
          "state": {
            "_model_module": "@jupyter-widgets/controls",
            "_model_module_version": "1.5.0",
            "_model_name": "DescriptionStyleModel",
            "_view_count": null,
            "_view_module": "@jupyter-widgets/base",
            "_view_module_version": "1.2.0",
            "_view_name": "StyleView",
            "description_width": ""
          }
        },
        "7ee70fa5f41841319c7161812950e736": {
          "model_module": "@jupyter-widgets/base",
          "model_module_version": "1.2.0",
          "model_name": "LayoutModel",
          "state": {
            "_model_module": "@jupyter-widgets/base",
            "_model_module_version": "1.2.0",
            "_model_name": "LayoutModel",
            "_view_count": null,
            "_view_module": "@jupyter-widgets/base",
            "_view_module_version": "1.2.0",
            "_view_name": "LayoutView",
            "align_content": null,
            "align_items": null,
            "align_self": null,
            "border": null,
            "bottom": null,
            "display": null,
            "flex": null,
            "flex_flow": null,
            "grid_area": null,
            "grid_auto_columns": null,
            "grid_auto_flow": null,
            "grid_auto_rows": null,
            "grid_column": null,
            "grid_gap": null,
            "grid_row": null,
            "grid_template_areas": null,
            "grid_template_columns": null,
            "grid_template_rows": null,
            "height": null,
            "justify_content": null,
            "justify_items": null,
            "left": null,
            "margin": null,
            "max_height": null,
            "max_width": null,
            "min_height": null,
            "min_width": null,
            "object_fit": null,
            "object_position": null,
            "order": null,
            "overflow": null,
            "overflow_x": null,
            "overflow_y": null,
            "padding": null,
            "right": null,
            "top": null,
            "visibility": null,
            "width": null
          }
        },
        "872c4a13f0444c8eb17bbbb436190d6f": {
          "model_module": "@jupyter-widgets/controls",
          "model_module_version": "1.5.0",
          "model_name": "TextModel",
          "state": {
            "_dom_classes": [],
            "_model_module": "@jupyter-widgets/controls",
            "_model_module_version": "1.5.0",
            "_model_name": "TextModel",
            "_view_count": null,
            "_view_module": "@jupyter-widgets/controls",
            "_view_module_version": "1.5.0",
            "_view_name": "TextView",
            "continuous_update": true,
            "description": "bathrooms:",
            "description_tooltip": null,
            "disabled": false,
            "layout": "IPY_MODEL_076b180928fd43b68dfe1ea5c6b6cd6f",
            "placeholder": "​",
            "style": "IPY_MODEL_9f985e4e39de469f854e491b922bc161",
            "value": ""
          }
        },
        "8794133bc7c94dafb2597e4a2aa809de": {
          "model_module": "@jupyter-widgets/controls",
          "model_module_version": "1.5.0",
          "model_name": "DescriptionStyleModel",
          "state": {
            "_model_module": "@jupyter-widgets/controls",
            "_model_module_version": "1.5.0",
            "_model_name": "DescriptionStyleModel",
            "_view_count": null,
            "_view_module": "@jupyter-widgets/base",
            "_view_module_version": "1.2.0",
            "_view_name": "StyleView",
            "description_width": ""
          }
        },
        "8db17e7b43c64d9894f2a4005389897b": {
          "model_module": "@jupyter-widgets/controls",
          "model_module_version": "1.5.0",
          "model_name": "VBoxModel",
          "state": {
            "_dom_classes": [],
            "_model_module": "@jupyter-widgets/controls",
            "_model_module_version": "1.5.0",
            "_model_name": "VBoxModel",
            "_view_count": null,
            "_view_module": "@jupyter-widgets/controls",
            "_view_module_version": "1.5.0",
            "_view_name": "VBoxView",
            "box_style": "",
            "children": [
              "IPY_MODEL_b9f38584a3f3467d8b014207828c6060",
              "IPY_MODEL_46f95235d4ab4051b80039981ca617a4",
              "IPY_MODEL_42be716f60c040e9867ca5616a187a9e",
              "IPY_MODEL_6a4febc0ab5d40a5a15c8581959acf7b",
              "IPY_MODEL_872c4a13f0444c8eb17bbbb436190d6f"
            ],
            "layout": "IPY_MODEL_7ee70fa5f41841319c7161812950e736"
          }
        },
        "978988e72f644fe786a22e39858a1ade": {
          "model_module": "@jupyter-widgets/base",
          "model_module_version": "1.2.0",
          "model_name": "LayoutModel",
          "state": {
            "_model_module": "@jupyter-widgets/base",
            "_model_module_version": "1.2.0",
            "_model_name": "LayoutModel",
            "_view_count": null,
            "_view_module": "@jupyter-widgets/base",
            "_view_module_version": "1.2.0",
            "_view_name": "LayoutView",
            "align_content": null,
            "align_items": null,
            "align_self": null,
            "border": null,
            "bottom": null,
            "display": null,
            "flex": null,
            "flex_flow": null,
            "grid_area": null,
            "grid_auto_columns": null,
            "grid_auto_flow": null,
            "grid_auto_rows": null,
            "grid_column": null,
            "grid_gap": null,
            "grid_row": null,
            "grid_template_areas": null,
            "grid_template_columns": null,
            "grid_template_rows": null,
            "height": null,
            "justify_content": null,
            "justify_items": null,
            "left": null,
            "margin": null,
            "max_height": null,
            "max_width": null,
            "min_height": null,
            "min_width": null,
            "object_fit": null,
            "object_position": null,
            "order": null,
            "overflow": null,
            "overflow_x": null,
            "overflow_y": null,
            "padding": null,
            "right": null,
            "top": null,
            "visibility": null,
            "width": null
          }
        },
        "9f985e4e39de469f854e491b922bc161": {
          "model_module": "@jupyter-widgets/controls",
          "model_module_version": "1.5.0",
          "model_name": "DescriptionStyleModel",
          "state": {
            "_model_module": "@jupyter-widgets/controls",
            "_model_module_version": "1.5.0",
            "_model_name": "DescriptionStyleModel",
            "_view_count": null,
            "_view_module": "@jupyter-widgets/base",
            "_view_module_version": "1.2.0",
            "_view_name": "StyleView",
            "description_width": ""
          }
        },
        "b9f38584a3f3467d8b014207828c6060": {
          "model_module": "@jupyter-widgets/controls",
          "model_module_version": "1.5.0",
          "model_name": "TextModel",
          "state": {
            "_dom_classes": [],
            "_model_module": "@jupyter-widgets/controls",
            "_model_module_version": "1.5.0",
            "_model_name": "TextModel",
            "_view_count": null,
            "_view_module": "@jupyter-widgets/controls",
            "_view_module_version": "1.5.0",
            "_view_name": "TextView",
            "continuous_update": true,
            "description": "Lat:",
            "description_tooltip": null,
            "disabled": false,
            "layout": "IPY_MODEL_4acf8b1d35dc458c8b2382dfa3948e7a",
            "placeholder": "​",
            "style": "IPY_MODEL_bc8a7ffc94f74919b2d2b7bb204b7c75",
            "value": ""
          }
        },
        "bc8a7ffc94f74919b2d2b7bb204b7c75": {
          "model_module": "@jupyter-widgets/controls",
          "model_module_version": "1.5.0",
          "model_name": "DescriptionStyleModel",
          "state": {
            "_model_module": "@jupyter-widgets/controls",
            "_model_module_version": "1.5.0",
            "_model_name": "DescriptionStyleModel",
            "_view_count": null,
            "_view_module": "@jupyter-widgets/base",
            "_view_module_version": "1.2.0",
            "_view_name": "StyleView",
            "description_width": ""
          }
        },
        "c0025fefb77846e78866b14e9cab8c0a": {
          "model_module": "@jupyter-widgets/controls",
          "model_module_version": "1.5.0",
          "model_name": "DescriptionStyleModel",
          "state": {
            "_model_module": "@jupyter-widgets/controls",
            "_model_module_version": "1.5.0",
            "_model_name": "DescriptionStyleModel",
            "_view_count": null,
            "_view_module": "@jupyter-widgets/base",
            "_view_module_version": "1.2.0",
            "_view_name": "StyleView",
            "description_width": ""
          }
        },
        "c7a532b8684041e9b68e6a0e01b34866": {
          "model_module": "@jupyter-widgets/controls",
          "model_module_version": "1.5.0",
          "model_name": "DescriptionStyleModel",
          "state": {
            "_model_module": "@jupyter-widgets/controls",
            "_model_module_version": "1.5.0",
            "_model_name": "DescriptionStyleModel",
            "_view_count": null,
            "_view_module": "@jupyter-widgets/base",
            "_view_module_version": "1.2.0",
            "_view_name": "StyleView",
            "description_width": ""
          }
        },
        "cf58d34895054d028ed6a28535e614cb": {
          "model_module": "@jupyter-widgets/base",
          "model_module_version": "1.2.0",
          "model_name": "LayoutModel",
          "state": {
            "_model_module": "@jupyter-widgets/base",
            "_model_module_version": "1.2.0",
            "_model_name": "LayoutModel",
            "_view_count": null,
            "_view_module": "@jupyter-widgets/base",
            "_view_module_version": "1.2.0",
            "_view_name": "LayoutView",
            "align_content": null,
            "align_items": null,
            "align_self": null,
            "border": null,
            "bottom": null,
            "display": null,
            "flex": null,
            "flex_flow": null,
            "grid_area": null,
            "grid_auto_columns": null,
            "grid_auto_flow": null,
            "grid_auto_rows": null,
            "grid_column": null,
            "grid_gap": null,
            "grid_row": null,
            "grid_template_areas": null,
            "grid_template_columns": null,
            "grid_template_rows": null,
            "height": null,
            "justify_content": null,
            "justify_items": null,
            "left": null,
            "margin": null,
            "max_height": null,
            "max_width": null,
            "min_height": null,
            "min_width": null,
            "object_fit": null,
            "object_position": null,
            "order": null,
            "overflow": null,
            "overflow_x": null,
            "overflow_y": null,
            "padding": null,
            "right": null,
            "top": null,
            "visibility": null,
            "width": null
          }
        },
        "d7595bc54d4244a0b36e18cc5462ed98": {
          "model_module": "@jupyter-widgets/controls",
          "model_module_version": "1.5.0",
          "model_name": "VBoxModel",
          "state": {
            "_dom_classes": [],
            "_model_module": "@jupyter-widgets/controls",
            "_model_module_version": "1.5.0",
            "_model_name": "VBoxModel",
            "_view_count": null,
            "_view_module": "@jupyter-widgets/controls",
            "_view_module_version": "1.5.0",
            "_view_name": "VBoxView",
            "box_style": "",
            "children": [
              "IPY_MODEL_dc483b7fe5a042f2bd07a459357e0f0f",
              "IPY_MODEL_65e33f333c284cc49d8705f7e9aa4338",
              "IPY_MODEL_5fca74ed4f2140e1ac2c60cf011da6ca"
            ],
            "layout": "IPY_MODEL_1bcd7a71e69047b3b059f48cbbd5d903"
          }
        },
        "dc483b7fe5a042f2bd07a459357e0f0f": {
          "model_module": "@jupyter-widgets/controls",
          "model_module_version": "1.5.0",
          "model_name": "TextModel",
          "state": {
            "_dom_classes": [],
            "_model_module": "@jupyter-widgets/controls",
            "_model_module_version": "1.5.0",
            "_model_name": "TextModel",
            "_view_count": null,
            "_view_module": "@jupyter-widgets/controls",
            "_view_module_version": "1.5.0",
            "_view_name": "TextView",
            "continuous_update": true,
            "description": "sqft_basement:",
            "description_tooltip": null,
            "disabled": false,
            "layout": "IPY_MODEL_4d3027cabb124f2696b4ce653a85134d",
            "placeholder": "​",
            "style": "IPY_MODEL_8794133bc7c94dafb2597e4a2aa809de",
            "value": ""
          }
        },
        "fd083ba5d3064e35b720f7af1138c7d9": {
          "model_module": "@jupyter-widgets/controls",
          "model_module_version": "1.5.0",
          "model_name": "HBoxModel",
          "state": {
            "_dom_classes": [],
            "_model_module": "@jupyter-widgets/controls",
            "_model_module_version": "1.5.0",
            "_model_name": "HBoxModel",
            "_view_count": null,
            "_view_module": "@jupyter-widgets/controls",
            "_view_module_version": "1.5.0",
            "_view_name": "HBoxView",
            "box_style": "",
            "children": [
              "IPY_MODEL_8db17e7b43c64d9894f2a4005389897b",
              "IPY_MODEL_d7595bc54d4244a0b36e18cc5462ed98"
            ],
            "layout": "IPY_MODEL_219b3e1c16fe43a8925fcd16429b4d30"
          }
        }
      }
    }
  },
  "nbformat": 4,
  "nbformat_minor": 0
}
